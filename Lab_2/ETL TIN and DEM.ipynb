{
 "cells": [
  {
   "cell_type": "code",
   "execution_count": 1,
   "metadata": {},
   "outputs": [],
   "source": [
    "from arcgis.gis import GIS\n",
    "gis=GIS(\"home\")"
   ]
  },
  {
   "cell_type": "code",
   "execution_count": 13,
   "metadata": {},
   "outputs": [],
   "source": [
    "import arcpy\n",
    "import requests\n",
    "import os"
   ]
  },
  {
   "cell_type": "code",
   "execution_count": 5,
   "metadata": {},
   "outputs": [
    {
     "data": {
      "text/plain": [
       "398138543"
      ]
     },
     "execution_count": 5,
     "metadata": {},
     "output_type": "execute_result"
    }
   ],
   "source": [
    "##get sample dataset from DNR, save it to the the project\n",
    "las_url=\"https://resources.gisdata.mn.gov/pub/data/elevation/lidar/examples/lidar_sample/las/4342-13-07.las\"\n",
    "sample_tile = requests.get(las_url, allow_redirects=True)\n",
    "\n",
    "open(r\"C:\\Users\\rockx057\\Documents\\ArcGIS\\Projects\\Lab 2 Part 1\\sample_tile.las\", \"wb\").write(sample_tile.content)"
   ]
  },
  {
   "cell_type": "code",
   "execution_count": 6,
   "metadata": {},
   "outputs": [
    {
     "data": {
      "text/html": [
       "<div class='gpresult'><h2>Messages</h2><div id='messages' data-messages='[\"Start Time: Tuesday, October 15, 2024 6:09:37 PM\",\"Succeeded at Tuesday, October 15, 2024 6:09:40 PM (Elapsed Time: 2.39 seconds)\"]' data-show='true'><div id = 'default' /></div></div>"
      ],
      "text/plain": [
       "<Result 'C:\\\\Users\\\\rockx057\\\\Documents\\\\ArcGIS\\\\Projects\\\\Lab 2 Part 1\\\\sample_tile_LasDataset.lasd'>"
      ]
     },
     "execution_count": 6,
     "metadata": {},
     "output_type": "execute_result"
    }
   ],
   "source": [
    "##turn downloaded las file into a las dataset\n",
    "arcpy.management.CreateLasDataset(\n",
    "    input=r\"'C:\\Users\\rockx057\\Documents\\ArcGIS\\Projects\\Lab 2 Part 1\\sample_tile.las'\",\n",
    "    out_las_dataset=r\"C:\\Users\\rockx057\\Documents\\ArcGIS\\Projects\\Lab 2 Part 1\\sample_tile_LasDataset.lasd\",\n",
    ")"
   ]
  },
  {
   "cell_type": "code",
   "execution_count": 7,
   "metadata": {},
   "outputs": [
    {
     "data": {
      "text/html": [
       "<div class='gpresult'><h2>Messages</h2><div id='messages' data-messages='[\"Start Time: Tuesday, October 15, 2024 6:11:29 PM\",\"Succeeded at Tuesday, October 15, 2024 6:11:32 PM (Elapsed Time: 3.34 seconds)\"]' data-show='true'><div id = 'default' /></div></div>"
      ],
      "text/plain": [
       "<Result 'c:\\\\Users\\\\rockx057\\\\documents\\\\ArcGIS\\\\Projects\\\\lab 2 part 1\\\\Default.gdb\\\\sample_lasda_DEM'>"
      ]
     },
     "execution_count": 7,
     "metadata": {},
     "output_type": "execute_result"
    }
   ],
   "source": [
    "##convert las dataest into DEM by using elevation as the value field\n",
    "arcpy.conversion.LasDatasetToRaster(\n",
    "    in_las_dataset=r\"C:\\Users\\rockx057\\Documents\\ArcGIS\\Projects\\Lab 2 Part 1\\sample_tile_LasDataset.lasd\",\n",
    "    out_raster=r\"c:\\Users\\rockx057\\documents\\ArcGIS\\Projects\\lab 2 part 1\\Default.gdb\\sample_lasda_DEM\",\n",
    "    value_field=\"ELEVATION\",\n",
    ")"
   ]
  },
  {
   "cell_type": "code",
   "execution_count": 10,
   "metadata": {},
   "outputs": [
    {
     "data": {
      "text/html": [
       "<div class='gpresult'><h2>Messages</h2><div id='messages' data-messages='[\"Start Time: Tuesday, October 15, 2024 6:16:16 PM\",\"Succeeded at Tuesday, October 15, 2024 6:16:17 PM (Elapsed Time: 0.87 seconds)\"]' data-show='true'><div id = 'default' /></div></div>"
      ],
      "text/plain": [
       "<Result 'C:\\\\Users\\\\rockx057\\\\Documents\\\\ArcGIS\\\\Projects\\\\Lab 2 Part 1\\\\sample_tile_La_LasDatasetToTIN'>"
      ]
     },
     "execution_count": 10,
     "metadata": {},
     "output_type": "execute_result"
    }
   ],
   "source": [
    "##convert las dataset to a TIN- do some thinning to allow for memory constraints. \n",
    "arcpy.ddd.LasDatasetToTin(\n",
    "    in_las_dataset=r\"C:\\Users\\rockx057\\Documents\\ArcGIS\\Projects\\Lab 2 Part 1\\sample_tile_LasDataset.lasd\",\n",
    "    out_tin=r\"C:\\Users\\rockx057\\Documents\\ArcGIS\\Projects\\Lab 2 Part 1\\sample_tile_La_LasDatasetToTIN\",\n",
    "    thinning_type=\"WINDOW_SIZE\",\n",
    "    thinning_method=\"MIN\",\n",
    "    thinning_value=15,\n",
    "    max_nodes=5000000,\n",
    "    z_factor=1,\n",
    "    clip_to_extent=\"CLIP\"\n",
    ")"
   ]
  },
  {
   "cell_type": "code",
   "execution_count": 15,
   "metadata": {},
   "outputs": [],
   "source": [
    "aprx = arcpy.mp.ArcGISProject('CURRENT')\n",
    "prjPath = r'C:\\Users\\rockx057\\Documents\\ArcGIS\\Projects\\Lab 2 Part 1'\n",
    "\n",
    "layoutNames = ['DEM_pdf', 'TIN_pdf']\n",
    "for name in layoutNames:\n",
    "    lyt = aprx.listLayouts(name)[0]\n",
    "    #export to PDF - default settings\n",
    "    lyt.exportToPDF(os.path.join(prjPath, name + '_defaults.pdf'))\n",
    "   "
   ]
  },
  {
   "cell_type": "code",
   "execution_count": null,
   "metadata": {},
   "outputs": [],
   "source": []
  }
 ],
 "metadata": {
  "kernelspec": {
   "display_name": "ArcGISPro",
   "language": "Python",
   "name": "python3"
  },
  "language_info": {
   "file_extension": ".py",
   "name": "python",
   "version": "3"
  }
 },
 "nbformat": 4,
 "nbformat_minor": 2
}
