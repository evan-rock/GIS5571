{
 "cells": [
  {
   "cell_type": "code",
   "execution_count": 1,
   "metadata": {},
   "outputs": [],
   "source": [
    "from arcgis.gis import GIS\n",
    "gis=GIS(\"home\")"
   ]
  },
  {
   "cell_type": "code",
   "execution_count": 2,
   "metadata": {},
   "outputs": [],
   "source": [
    "import arcpy\n",
    "import requests\n",
    "from zipfile import ZipFile\n",
    "import io\n",
    "import os"
   ]
  },
  {
   "cell_type": "code",
   "execution_count": 3,
   "metadata": {},
   "outputs": [
    {
     "data": {
      "text/plain": [
       "27839341"
      ]
     },
     "execution_count": 3,
     "metadata": {},
     "output_type": "execute_result"
    }
   ],
   "source": [
    "prism_zip_url = \"https://ftp.prism.oregonstate.edu/normals/monthly/4km/ppt/PRISM_ppt_30yr_normal_4kmM4_all_bil.zip\"\n",
    "prism_data_zip = requests.get(prism_zip_url, allow_redirects=True)\n",
    "\n",
    "open(r\"C:\\Users\\rockx057\\Documents\\ArcGIS\\Projects\\Lab 2 precip cube\\prism_zip_data.zip\", \"wb\").write(prism_data_zip.content)\n",
    "     \n"
   ]
  },
  {
   "cell_type": "code",
   "execution_count": 4,
   "metadata": {},
   "outputs": [],
   "source": [
    "with ZipFile(r\"C:\\Users\\rockx057\\Documents\\ArcGIS\\Projects\\Lab 2 precip cube\\prism_zip_data.zip\", 'r') as prism_data:\n",
    "    prism_data.extractall(\n",
    "        path=r\"C:\\Users\\rockx057\\Documents\\ArcGIS\\Projects\\Lab 2 precip cube\")"
   ]
  },
  {
   "cell_type": "code",
   "execution_count": 10,
   "metadata": {},
   "outputs": [],
   "source": [
    "with arcpy.EnvManager(scratchWorkspace=r\"C:\\Users\\rockx057\\Documents\\ArcGIS\\Projects\\Lab 2 precip cube\\Default.gdb\", workspace=r\"C:\\Users\\rockx057\\Documents\\ArcGIS\\Projects\\Lab 2 precip cube\\Default.gdb\"):\n",
    "    arcpy.management.CreateMosaicDataset(\n",
    "        in_workspace=r\"C:\\Users\\rockx057\\Documents\\ArcGIS\\Projects\\Lab 2 precip cube\\Default.gdb\",\n",
    "        in_mosaicdataset_name=\"Prism_data_mosaic3\",\n",
    "        coordinate_system='GEOGCS[\"GCS_North_American_1983\",DATUM[\"D_North_American_1983\",SPHEROID[\"GRS_1980\",6378137.0,298.257222101]],PRIMEM[\"Greenwich\",0.0],UNIT[\"Degree\",0.0174532925199433]]',\n",
    "    )"
   ]
  },
  {
   "cell_type": "code",
   "execution_count": 11,
   "metadata": {},
   "outputs": [
    {
     "data": {
      "text/html": [
       "<div class='gpresult'><h2>Messages</h2><div id='messages' data-messages='[\"Start Time: Tuesday, October 29, 2024 5:44:59 PM\",\"2024-10-29T17:45:01.134: Loading raster datasets\",\"2024-10-29T17:45:01.193: Completed crawling 13 data source items. Added 13 mosaic dataset items.\",\"2024-10-29T17:45:01.196: Synchronizing crawled data source items\",\"2024-10-29T17:45:01.213: Synchronizing items associated with raster type instance &#39;Raster Dataset&#39; [ID: 1].\",\"2024-10-29T17:45:01.393: Completed synchronization: 13 items selected, 13 items synchronized.\",\"2024-10-29T17:45:01.491: Computing cell size levels\",\"2024-10-29T17:45:01.491: Computing unique cell size values\",\"2024-10-29T17:45:01.550: Computing maximum cell size values\",\"2024-10-29T17:45:01.554: Computing minimum cell size values\",\"2024-10-29T17:45:01.557: Updating visibility values of selected items\",\"2024-10-29T17:45:01.577: Computing maximum cell size for mosaic dataset\",\"2024-10-29T17:45:01.588: Completed computing cell size ranges.\",\"2024-10-29T17:45:01.651: Completed building boundary.\",\"Succeeded at Tuesday, October 29, 2024 5:45:03 PM (Elapsed Time: 3.63 seconds)\"]' data-show='true'><div id = 'default' /></div></div>"
      ],
      "text/plain": [
       "<Result 'Prism_data_mosaic3'>"
      ]
     },
     "execution_count": 11,
     "metadata": {},
     "output_type": "execute_result"
    }
   ],
   "source": [
    "arcpy.management.AddRastersToMosaicDataset(\n",
    "    in_mosaic_dataset=\"Prism_data_mosaic3\",\n",
    "    raster_type=\"Raster Dataset\",\n",
    "    input_path=r\"C:\\Users\\rockx057\\Documents\\ArcGIS\\Projects\\Lab 2 precip cube\\BILs\",\n",
    ")"
   ]
  },
  {
   "cell_type": "code",
   "execution_count": 12,
   "metadata": {
    "scrolled": true
   },
   "outputs": [
    {
     "data": {
      "text/html": [
       "<div class='gpresult'><h2>Messages</h2><div id='messages' data-messages='[\"Start Time: Tuesday, October 29, 2024 5:45:22 PM\",\"Adding Variable to AMD_Prism_data_mosaic3_CAT...\",\"Succeeded at Tuesday, October 29, 2024 5:45:24 PM (Elapsed Time: 2.00 seconds)\"]' data-show='true'><div id = 'default' /></div></div>"
      ],
      "text/plain": [
       "<Result 'Prism_data_mosaic3\\\\Footprint'>"
      ]
     },
     "execution_count": 12,
     "metadata": {},
     "output_type": "execute_result"
    }
   ],
   "source": [
    "arcpy.management.CalculateField(\n",
    "    in_table=r\"Prism_data_mosaic3\\Footprint\",\n",
    "    field=\"Variable\",\n",
    "    expression= '\"30Yr Normal\"',\n",
    "    expression_type=\"PYTHON3\",\n",
    "    code_block=\"\",\n",
    "    field_type=\"TEXT\",\n",
    "    enforce_domains=\"NO_ENFORCE_DOMAINS\"\n",
    ")"
   ]
  },
  {
   "cell_type": "code",
   "execution_count": 18,
   "metadata": {},
   "outputs": [
    {
     "data": {
      "text/html": [
       "<div class='gpresult'><h2>Messages</h2><div id='messages' data-messages='[\"Start Time: Tuesday, October 29, 2024 5:48:18 PM\",\"Succeeded at Tuesday, October 29, 2024 5:48:19 PM (Elapsed Time: 1.29 seconds)\"]' data-show='true'><div id = 'default' /></div></div>"
      ],
      "text/plain": [
       "<Result 'Prism_data_mosaic3\\\\Footprint'>"
      ]
     },
     "execution_count": 18,
     "metadata": {},
     "output_type": "execute_result"
    }
   ],
   "source": [
    "arcpy.management.CalculateField(\n",
    "    in_table=\"Prism_data_mosaic3\\Footprint\",\n",
    "    field=\"Timestamp\",\n",
    "    expression=\"DateAdd(Date(1993,0,1), $feature.OBJECTID-1, 'year')\",\n",
    "    expression_type=\"ARCADE\",\n",
    "    code_block=\"\",\n",
    "    field_type=\"DATE\",\n",
    "    enforce_domains=\"NO_ENFORCE_DOMAINS\"\n",
    ")"
   ]
  },
  {
   "cell_type": "code",
   "execution_count": 16,
   "metadata": {},
   "outputs": [
    {
     "data": {
      "text/html": [
       "<div class='gpresult'><h2>Messages</h2><div id='messages' data-messages='[\"Start Time: Tuesday, October 29, 2024 5:46:31 PM\",\"Succeeded at Tuesday, October 29, 2024 5:46:36 PM (Elapsed Time: 5.37 seconds)\"]' data-show='true'><div id = 'default' /></div></div>"
      ],
      "text/plain": [
       "<Result 'C:\\\\Users\\\\rockx057\\\\Documents\\\\ArcGIS\\\\Projects\\\\Lab 2 precip cube\\\\Default.gdb\\\\Prism_data_mosaic3'>"
      ]
     },
     "execution_count": 16,
     "metadata": {},
     "output_type": "execute_result"
    }
   ],
   "source": [
    "arcpy.md.BuildMultidimensionalInfo(\n",
    "    in_mosaic_dataset=r\"C:\\Users\\rockx057\\Documents\\ArcGIS\\Projects\\Lab 2 precip cube\\Default.gdb\\Prism_data_mosaic3\",\n",
    "    variable_field=\"Variable\",\n",
    "    dimension_fields=\"Timestamp # #\",\n",
    "    variable_desc_units=None,\n",
    "    delete_multidimensional_info=\"NO_DELETE_MULTIDIMENSIONAL_INFO\"\n",
    ")"
   ]
  },
  {
   "cell_type": "code",
   "execution_count": 17,
   "metadata": {},
   "outputs": [
    {
     "data": {
      "text/html": [
       "<div class='gpresult'><h2>Messages</h2><div id='messages' data-messages='[\"Start Time: Tuesday, October 29, 2024 5:46:46 PM\",\"Succeeded at Tuesday, October 29, 2024 5:46:57 PM (Elapsed Time: 10.41 seconds)\"]' data-show='true'><div id = 'default' /></div></div>"
      ],
      "text/plain": [
       "<Result 'Prism_data_mosaic_MultidimLayer2'>"
      ]
     },
     "execution_count": 17,
     "metadata": {},
     "output_type": "execute_result"
    }
   ],
   "source": [
    "arcpy.md.MakeMultidimensionalRasterLayer(\n",
    "    in_multidimensional_raster=\"Prism_data_mosaic3\",\n",
    "    out_multidimensional_raster_layer=\"Prism_data_mosaic_MultidimLayer2\",\n",
    "    variables=\"'30Yr Normal'\",\n",
    "    dimension_def=\"ALL\",\n",
    "    dimension_ranges=None,\n",
    "    dimension_values=None,\n",
    "    dimension=\"\",\n",
    "    start_of_first_iteration=\"\",\n",
    "    end_of_first_iteration=\"\",\n",
    "    iteration_step=None,\n",
    "    iteration_unit=\"\",\n",
    "    template='-125.020833333333 24.0624999997935 -66.4791666661985 49.9375000000005 GEOGCS[\"GCS_North_American_1983\",DATUM[\"D_North_American_1983\",SPHEROID[\"GRS_1980\",6378137.0,298.257222101]],PRIMEM[\"Greenwich\",0.0],UNIT[\"Degree\",0.0174532925199433]]',\n",
    "    dimensionless=\"DIMENSIONS\",\n",
    "    spatial_reference=None\n",
    ")"
   ]
  },
  {
   "cell_type": "code",
   "execution_count": 19,
   "metadata": {},
   "outputs": [
    {
     "data": {
      "text/html": [
       "<div class='gpresult'><h2>Messages</h2><div id='messages' data-messages='[\"Start Time: Tuesday, October 29, 2024 5:50:57 PM\",\"WARNING 110290: This tool requires projected data to accurately measure distances.  The Input Multidimensional Raster Layer will be projected to the WGS 1984 World Equidistant Cylindrical projection (WKID 4087).\",\"WARNING 110013: The default Time Step Interval is 1 year.\",\"WARNING 110067: Your spatial reference is not compatible with CF Conventions.  You may experience difficulties using the resulting space-time cube with other NetCDF tools and software.\",[{\"element\":\"table\",\"data\":[[{\"data\":\"Input feature time extent\",\"prop\":{\"rowspan\":2}},\"1993-01-01 00:00:00\"],[{\"data\":\"to 2005-01-01 00:00:00\",\"prop\":{\"text-align\":\"right\"}}],[\"\",\"\"],[\"Number of time steps\",\"13\"],[\"Time step interval\",\"1 year\"],[\"Time step alignment\",\"End\"],[\"\",\"\"],[\"First time step temporal bias\",\"100.00%\"],[{\"data\":\"First time step interval\",\"prop\":{\"rowspan\":4}},\"after\"],[{\"data\":\"1992-01-01 00:00:00\",\"prop\":{\"text-align\":\"right\"}}],[{\"data\":\"to on or before\",\"prop\":{\"text-align\":\"right\"}}],[{\"data\":\"1993-01-01 00:00:00\",\"prop\":{\"text-align\":\"right\"}}],[\"\",\"\"],[\"Last time step temporal bias\",\"0.00%\"],[{\"data\":\"Last time step interval\",\"prop\":{\"rowspan\":4}},\"after\"],[{\"data\":\"2004-01-01 00:00:00\",\"prop\":{\"text-align\":\"right\"}}],[{\"data\":\"to on or before\",\"prop\":{\"text-align\":\"right\"}}],[{\"data\":\"2005-01-01 00:00:00\",\"prop\":{\"text-align\":\"right\"}}],[\"\",\"\"],[\"Coordinate System\",\"WGS 1984 World Equidistant Cylindrical\"],[\"Cube extent across space\",\"(coordinates in meters)\"],[\"Min X\",\"-13894065.6611\"],[\"Min Y\",\"2708362.4448\"],[\"Max X\",\"-7451448.3421\"],[\"Max Y\",\"5478284.6852\"]],\"elementProps\":{\"striped\":\"true\",\"noHeader\":true,\"title\":\"Space Time Cube Characteristics\",\"0\":{\"align\":\"left\",\"pad\":\"0px\",\"wrap\":true},\"1\":{\"align\":\"right\",\"pad\":\"0px\",\"wrap\":true}}}],[{\"element\":\"table\",\"data\":[[\"Locations\",\"481631\"],[\"Total observations\",\"6261203\"]],\"elementProps\":{\"striped\":\"true\",\"noHeader\":true,\"0\":{\"align\":\"left\",\"pad\":\"0px\",\"wrap\":true},\"1\":{\"align\":\"right\",\"pad\":\"0px\",\"wrap\":true}}}],[{\"element\":\"table\",\"data\":[[\"Trend direction\",\"Not Significant\"],[\"Trend statistic\",\"0.6711\"],[\"Trend p-value\",\"0.5022\"]],\"elementProps\":{\"striped\":\"true\",\"noHeader\":true,\"title\":\"Overall Data Trend - 30YR_NORMAL_NONE_ZEROS\",\"0\":{\"align\":\"left\",\"pad\":\"0px\",\"wrap\":true},\"1\":{\"align\":\"right\",\"pad\":\"0px\",\"wrap\":true}}}],\"Succeeded at Tuesday, October 29, 2024 6:00:13 PM (Elapsed Time: 9 minutes 16 seconds)\"]' data-show='true'><div id = 'default' /></div></div>"
      ],
      "text/plain": [
       "<Result 'C:\\\\Users\\\\rockx057\\\\Documents\\\\ArcGIS\\\\Projects\\\\Lab 2 precip cube\\\\prism_cube.nc'>"
      ]
     },
     "execution_count": 19,
     "metadata": {},
     "output_type": "execute_result"
    }
   ],
   "source": [
    "arcpy.stpm.CreateSpaceTimeCubeMDRasterLayer(\n",
    "    in_md_raster=\"Prism_data_mosaic_MultidimLayer2\",\n",
    "    output_cube=r\"C:\\Users\\rockx057\\Documents\\ArcGIS\\Projects\\Lab 2 precip cube\\prism_cube.nc\",\n",
    "    fill_empty_bins=\"ZEROS\"\n",
    ")"
   ]
  },
  {
   "cell_type": "code",
   "execution_count": null,
   "metadata": {},
   "outputs": [],
   "source": []
  }
 ],
 "metadata": {
  "kernelspec": {
   "display_name": "ArcGISPro",
   "language": "Python",
   "name": "python3"
  },
  "language_info": {
   "file_extension": ".py",
   "name": "python",
   "version": "3"
  }
 },
 "nbformat": 4,
 "nbformat_minor": 2
}
