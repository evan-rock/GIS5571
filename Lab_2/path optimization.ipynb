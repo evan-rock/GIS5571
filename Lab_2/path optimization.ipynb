{
 "cells": [
  {
   "cell_type": "code",
   "execution_count": 2,
   "metadata": {},
   "outputs": [],
   "source": [
    "from arcgis.gis import GIS\n",
    "gis=GIS(\"home\")"
   ]
  },
  {
   "cell_type": "code",
   "execution_count": 3,
   "metadata": {},
   "outputs": [],
   "source": [
    "import arcpy\n",
    "import requests\n",
    "from zipfile import ZipFile\n",
    "import io\n",
    "import os"
   ]
  },
  {
   "cell_type": "code",
   "execution_count": 3,
   "metadata": {},
   "outputs": [
    {
     "data": {
      "text/plain": [
       "97106583"
      ]
     },
     "execution_count": 3,
     "metadata": {},
     "output_type": "execute_result"
    }
   ],
   "source": [
    "#download land use/land cover data from mn geocommons\n",
    "\n",
    "land_use_url = \"https://resources.gisdata.mn.gov/pub/gdrs/data/pub/edu_umn/base_landcover_minnesota/tif_base_landcover_minnesota.zip\"\n",
    "land_use_raster = requests.get(land_use_url, allow_redirects=True)\n",
    "open(r\"C:\\Users\\rockx057\\Documents\\ArcGIS\\Projects\\Lab 2 path optimization\\land_use_raster.zip\", 'wb').write(land_use_raster.content)\n"
   ]
  },
  {
   "cell_type": "code",
   "execution_count": 4,
   "metadata": {},
   "outputs": [],
   "source": [
    "#unzip and extract LU/LC files\n",
    "\n",
    "with ZipFile(r\"C:\\Users\\rockx057\\Documents\\ArcGIS\\Projects\\Lab 2 path optimization\\land_use_raster.zip\", 'r') as land_use_raster:\n",
    "    land_use_raster.extractall(\n",
    "        path=r\"C:\\Users\\rockx057\\Documents\\ArcGIS\\Projects\\Lab 2 path optimization\\land_use_raster_mn\"\n",
    "    )"
   ]
  },
  {
   "cell_type": "code",
   "execution_count": 5,
   "metadata": {},
   "outputs": [
    {
     "data": {
      "text/plain": [
       "402844618"
      ]
     },
     "execution_count": 5,
     "metadata": {},
     "output_type": "execute_result"
    }
   ],
   "source": [
    "#download DEM for Minnesota\n",
    "\n",
    "dem_url = \"https://resources.gisdata.mn.gov/pub/gdrs/data/pub/us_mn_state_dnr/elev_30m_digital_elevation_model/fgdb_elev_30m_digital_elevation_model.zip\"\n",
    "dem_raster = requests.get(dem_url, allow_redirects=True)\n",
    "open(r\"C:\\Users\\rockx057\\Documents\\ArcGIS\\Projects\\Lab 2 path optimization\\dem_raster.zip\", 'wb').write(dem_raster.content)\n"
   ]
  },
  {
   "cell_type": "code",
   "execution_count": 7,
   "metadata": {},
   "outputs": [],
   "source": [
    "#unzip and extract DEM file\n",
    "\n",
    "with ZipFile(r\"C:\\Users\\rockx057\\Documents\\ArcGIS\\Projects\\Lab 2 path optimization\\dem_raster.zip\", 'r') as dem_raster:\n",
    "    dem_raster.extractall(\n",
    "        path=r\"C:\\Users\\rockx057\\Documents\\ArcGIS\\Projects\\Lab 2 path optimization\\dem_raster_mn\"\n",
    "    )"
   ]
  },
  {
   "cell_type": "code",
   "execution_count": null,
   "metadata": {},
   "outputs": [],
   "source": [
    "#get slope classes from DEM\n",
    "\n",
    "arcpy.ddd.Slope(\n",
    "    in_raster=r\"C:\\Users\\rockx057\\Documents\\ArcGIS\\Projects\\Lab 2 Dory\\dem_raster\\elev_30m_digital_elevation_model.gdb\\digital_elevation_model_30m\",\n",
    "    out_raster=r\"C:\\Users\\rockx057\\Documents\\ArcGIS\\Projects\\Lab 2 Dory\\Default.gdb\\Slope_digita2\",\n",
    "    output_measurement=\"DEGREE\",\n",
    "    z_factor=1,\n",
    "    method=\"PLANAR\",\n",
    "    z_unit=\"METER\",\n",
    "    analysis_target_device=\"GPU_THEN_CPU\"\n",
    ")"
   ]
  },
  {
   "cell_type": "code",
   "execution_count": 8,
   "metadata": {},
   "outputs": [
    {
     "data": {
      "text/html": [
       "<div class='gpresult'><h2>Messages</h2><div id='messages' data-messages='[\"Start Time: Tuesday, October 22, 2024 6:39:23 PM\",\"Building Pyramids...\",\"Succeeded at Tuesday, October 22, 2024 6:39:29 PM (Elapsed Time: 5.96 seconds)\"]' data-show='true'><div id = 'default' /></div></div>"
      ],
      "text/plain": [
       "<Result 'C:\\\\Users\\\\rockx057\\\\Documents\\\\ArcGIS\\\\Projects\\\\Lab 2 Dory\\\\Default.gdb\\\\Slope_digita1_Clip'>"
      ]
     },
     "execution_count": 8,
     "metadata": {},
     "output_type": "execute_result"
    }
   ],
   "source": [
    "#Clip Slope layer to just the area around the problem to save processing\n",
    "\n",
    "arcpy.management.Clip(\n",
    "    in_raster=\"Slope_digita1\",\n",
    "    rectangle=\"565687.665516329 4874825.41184745 581816.810050418 4888942.45638066\",\n",
    "    out_raster=r\"C:\\Users\\rockx057\\Documents\\ArcGIS\\Projects\\Lab 2 Dory\\Default.gdb\\Slope_digita1_Clip\",\n",
    "    in_template_dataset=\"clip_area\",\n",
    "    nodata_value=\"3.4e+38\",\n",
    "    clipping_geometry=\"NONE\",\n",
    "    maintain_clipping_extent=\"NO_MAINTAIN_EXTENT\"\n",
    ")"
   ]
  },
  {
   "cell_type": "code",
   "execution_count": 9,
   "metadata": {},
   "outputs": [
    {
     "data": {
      "text/html": [
       "<div class='gpresult'><h2>Messages</h2><div id='messages' data-messages='[\"Start Time: Tuesday, October 22, 2024 6:40:28 PM\",\"Building Pyramids...\",\"Succeeded at Tuesday, October 22, 2024 6:40:31 PM (Elapsed Time: 2.68 seconds)\"]' data-show='true'><div id = 'default' /></div></div>"
      ],
      "text/plain": [
       "<Result 'C:\\\\Users\\\\rockx057\\\\Documents\\\\ArcGIS\\\\Projects\\\\Lab 2 Dory\\\\Default.gdb\\\\land_use_Clip'>"
      ]
     },
     "execution_count": 9,
     "metadata": {},
     "output_type": "execute_result"
    }
   ],
   "source": [
    "#Clip LU/LC layer to just the area around the problem to save processing\n",
    "\n",
    "arcpy.management.Clip(\n",
    "    in_raster=\"landcover_impervious_statewide2013_v2.tif\",\n",
    "    rectangle=\"565687.665516329 4874825.41184745 581816.810050418 4888942.45638066\",\n",
    "    out_raster=r\"C:\\Users\\rockx057\\Documents\\ArcGIS\\Projects\\Lab 2 Dory\\Default.gdb\\land_use_Clip\",\n",
    "    in_template_dataset=\"clip_area\",\n",
    "    nodata_value=\"255\",\n",
    "    clipping_geometry=\"NONE\",\n",
    "    maintain_clipping_extent=\"NO_MAINTAIN_EXTENT\"\n",
    ")"
   ]
  },
  {
   "cell_type": "code",
   "execution_count": 10,
   "metadata": {},
   "outputs": [
    {
     "data": {
      "text/html": [
       "<div class='gpresult'><h2>Messages</h2><div id='messages' data-messages='[\"Start Time: Tuesday, October 22, 2024 6:49:33 PM\",\"Succeeded at Tuesday, October 22, 2024 6:49:36 PM (Elapsed Time: 2.98 seconds)\"]' data-show='true'><div id = 'default' /></div></div>"
      ],
      "text/plain": [
       "<Result 'C:\\\\Users\\\\rockx057\\\\Documents\\\\ArcGIS\\\\Projects\\\\Lab 2 Dory\\\\Default.gdb\\\\Reclass_land1'>"
      ]
     },
     "execution_count": 10,
     "metadata": {},
     "output_type": "execute_result"
    }
   ],
   "source": [
    "#reclassify land use according to Dory's preferences\n",
    "\n",
    "arcpy.ddd.Reclassify(\n",
    "    in_raster=\"land_use_Clip\",\n",
    "    reclass_field=\"Value\",\n",
    "    remap=\"1 101 1; 101 104 3; 104 109 2; 109 111 4\",\n",
    "    out_raster=r\"C:\\Users\\rockx057\\Documents\\ArcGIS\\Projects\\Lab 2 Dory\\Default.gdb\\Reclass_land1\",\n",
    "    missing_values=0\n",
    ")"
   ]
  },
  {
   "cell_type": "code",
   "execution_count": 11,
   "metadata": {
    "scrolled": true
   },
   "outputs": [
    {
     "data": {
      "text/html": [
       "<div class='gpresult'><h2>Messages</h2><div id='messages' data-messages='[\"Start Time: Tuesday, October 22, 2024 6:53:38 PM\",\"Succeeded at Tuesday, October 22, 2024 6:53:40 PM (Elapsed Time: 2.78 seconds)\"]' data-show='true'><div id = 'default' /></div></div>"
      ],
      "text/plain": [
       "<Result 'C:\\\\Users\\\\rockx057\\\\Documents\\\\ArcGIS\\\\Projects\\\\Lab 2 Dory\\\\Default.gdb\\\\Reclass_Slop1'>"
      ]
     },
     "execution_count": 11,
     "metadata": {},
     "output_type": "execute_result"
    }
   ],
   "source": [
    "#reclassify slope according to Dory's preferences\n",
    "\n",
    "\n",
    "arcpy.ddd.Reclassify(\n",
    "    in_raster=\"Slope_digita1\",\n",
    "    reclass_field=\"Value\",\n",
    "    remap=\"0 3 1; 3 6 2; 6 90 3\",\n",
    "    out_raster=r\"C:\\Users\\rockx057\\Documents\\ArcGIS\\Projects\\Lab 2 Dory\\Default.gdb\\Reclass_Slop1\",\n",
    "    missing_values=\"DATA\"\n",
    ")"
   ]
  },
  {
   "cell_type": "code",
   "execution_count": 18,
   "metadata": {},
   "outputs": [],
   "source": [
    "#weighted toward land cover\n",
    "land_weight=(arcpy.Raster(\"Reclass_Slop1\") * .3)+(arcpy.Raster(\"Reclass_land1\")*.7)\n",
    "land_weight.save(r\"C:\\Users\\rockx057\\Documents\\ArcGIS\\Projects\\Lab 2 Dory\\Default.gdb\\dory_path2\")"
   ]
  },
  {
   "cell_type": "code",
   "execution_count": 19,
   "metadata": {},
   "outputs": [],
   "source": [
    "#weighted equally\n",
    "equal_weight=(arcpy.Raster(\"Reclass_Slop1\") * .5)+(arcpy.Raster(\"Reclass_land1\")*.5)\n",
    "equal_weight.save(r\"C:\\Users\\rockx057\\Documents\\ArcGIS\\Projects\\Lab 2 Dory\\Default.gdb\\dory_path3\")"
   ]
  },
  {
   "cell_type": "code",
   "execution_count": 20,
   "metadata": {},
   "outputs": [],
   "source": [
    "#weighted toward slope\n",
    "slope_weight=(arcpy.Raster(\"Reclass_Slop1\") * .7)+(arcpy.Raster(\"Reclass_land1\")*.3)\n",
    "slope_weight.save(r\"C:\\Users\\rockx057\\Documents\\ArcGIS\\Projects\\Lab 2 Dory\\Default.gdb\\dory_path4\")"
   ]
  },
  {
   "cell_type": "code",
   "execution_count": 21,
   "metadata": {},
   "outputs": [
    {
     "data": {
      "text/html": [
       "<div class='gpresult'><h2>Messages</h2><div id='messages' data-messages='[\"Start Time: Tuesday, October 29, 2024 5:15:22 PM\",\"Optimal Region Connections: Input Features rasterized to C:\\\\Users\\\\LOCAL_~1\\\\Temp\\\\ArcGISProTemp8332\\\\{C9485561-8982-495A-8671-10DAEE58C435}833210108.crf.\",\"Optimal Region Connections: Allocating analysis area to input regions.\",\"Temporary data will be created in C:\\\\Users\\\\LOCAL_~1\\\\Temp\\\\ArcGISProTemp8332\\\\s8d2b7ab3_6f23_48ab_8f9e_ffef07b11e6b\",\"9 MB of temporary storage is estimated to be needed. 47,342 MB of storage is currently available.\",\"2024-10-29T17:15:22.844: Initialization Phase ...\",\"2024-10-29T17:15:22.881: Completion Phase ...\",\"9 MB of temporary storage was used.\",\"Optimal Region Connections: Connecting regions.\",\"Temporary data will be created in C:\\\\Users\\\\LOCAL_~1\\\\Temp\\\\ArcGISProTemp8332\\\\sf5fd565f_3464_4885_b2ab_8913a98301a3\",\"12 MB of temporary storage is estimated to be needed. 47,342 MB of storage is currently available.\",\"2024-10-29T17:15:23.536: Initialization Phase ...\",\"2024-10-29T17:15:23.679: Completion Phase ...\",\"12 MB of temporary storage was used.\",\"Succeeded at Tuesday, October 29, 2024 5:15:25 PM (Elapsed Time: 3.46 seconds)\"]' data-show='true'><div id = 'default' /></div></div>"
      ],
      "text/plain": [
       "<geoprocessing server result object object at 0x000001DB35AFA540>"
      ]
     },
     "execution_count": 21,
     "metadata": {},
     "output_type": "execute_result"
    }
   ],
   "source": [
    "#calculate optimal path with slope preferred\n",
    "arcpy.sa.OptimalRegionConnections(\n",
    "    in_regions=\"Dory_endpoints\",\n",
    "    out_feature_class=r\"C:\\Users\\rockx057\\Documents\\ArcGIS\\Projects\\Lab 2 Dory\\Default.gdb\\Optimal_slope\",\n",
    "    in_barrier_data=None,\n",
    "    in_cost_raster=\"slope_weight\",\n",
    "    out_neighbor_paths=None,\n",
    "    distance_method=\"PLANAR\",\n",
    "    connections_within_regions=\"GENERATE_CONNECTIONS\"\n",
    ")"
   ]
  },
  {
   "cell_type": "code",
   "execution_count": 23,
   "metadata": {
    "scrolled": true
   },
   "outputs": [
    {
     "data": {
      "text/html": [
       "<div class='gpresult'><h2>Messages</h2><div id='messages' data-messages='[\"Start Time: Tuesday, October 29, 2024 5:15:35 PM\",\"Optimal Region Connections: Input Features rasterized to C:\\\\Users\\\\LOCAL_~1\\\\Temp\\\\ArcGISProTemp8332\\\\{28F0CB36-D782-40F2-B43C-C2BF5449C274}833210108.crf.\",\"Optimal Region Connections: Allocating analysis area to input regions.\",\"Temporary data will be created in C:\\\\Users\\\\LOCAL_~1\\\\Temp\\\\ArcGISProTemp8332\\\\s552fb0cf_e303_41b2_b58c_497f85edc25e\",\"9 MB of temporary storage is estimated to be needed. 47,342 MB of storage is currently available.\",\"2024-10-29T17:15:36.525: Initialization Phase ...\",\"2024-10-29T17:15:36.561: Completion Phase ...\",\"9 MB of temporary storage was used.\",\"Optimal Region Connections: Connecting regions.\",\"Temporary data will be created in C:\\\\Users\\\\LOCAL_~1\\\\Temp\\\\ArcGISProTemp8332\\\\s3cb0118d_4748_4b1a_a89f_be9304d1ff17\",\"12 MB of temporary storage is estimated to be needed. 47,342 MB of storage is currently available.\",\"2024-10-29T17:15:37.242: Initialization Phase ...\",\"2024-10-29T17:15:37.380: Completion Phase ...\",\"12 MB of temporary storage was used.\",\"Succeeded at Tuesday, October 29, 2024 5:15:39 PM (Elapsed Time: 3.44 seconds)\"]' data-show='true'><div id = 'default' /></div></div>"
      ],
      "text/plain": [
       "<geoprocessing server result object object at 0x000001DB35AFACF0>"
      ]
     },
     "execution_count": 23,
     "metadata": {},
     "output_type": "execute_result"
    }
   ],
   "source": [
    "#calculate optimal path with both equally weighted\n",
    "arcpy.sa.OptimalRegionConnections(\n",
    "    in_regions=\"Dory_endpoints\",\n",
    "    out_feature_class=r\"C:\\Users\\rockx057\\Documents\\ArcGIS\\Projects\\Lab 2 Dory\\Default.gdb\\Optimal_equal\",\n",
    "    in_barrier_data=None,\n",
    "    in_cost_raster=\"equal_weight\",\n",
    "    out_neighbor_paths=None,\n",
    "    distance_method=\"PLANAR\",\n",
    "    connections_within_regions=\"GENERATE_CONNECTIONS\"\n",
    ")"
   ]
  },
  {
   "cell_type": "code",
   "execution_count": 22,
   "metadata": {},
   "outputs": [
    {
     "data": {
      "text/html": [
       "<div class='gpresult'><h2>Messages</h2><div id='messages' data-messages='[\"Start Time: Tuesday, October 29, 2024 5:15:28 PM\",\"Optimal Region Connections: Input Features rasterized to C:\\\\Users\\\\LOCAL_~1\\\\Temp\\\\ArcGISProTemp8332\\\\{9CC8758B-438B-4B0F-8D8C-42366E7F00AF}833210108.crf.\",\"Optimal Region Connections: Allocating analysis area to input regions.\",\"Temporary data will be created in C:\\\\Users\\\\LOCAL_~1\\\\Temp\\\\ArcGISProTemp8332\\\\sc8792a21_c53a_4302_9d07_f55b1d106700\",\"9 MB of temporary storage is estimated to be needed. 47,342 MB of storage is currently available.\",\"2024-10-29T17:15:28.921: Initialization Phase ...\",\"2024-10-29T17:15:28.960: Completion Phase ...\",\"9 MB of temporary storage was used.\",\"Optimal Region Connections: Connecting regions.\",\"Temporary data will be created in C:\\\\Users\\\\LOCAL_~1\\\\Temp\\\\ArcGISProTemp8332\\\\s323159e7_fe96_4ebe_9557_90143267be0b\",\"12 MB of temporary storage is estimated to be needed. 47,342 MB of storage is currently available.\",\"2024-10-29T17:15:29.618: Initialization Phase ...\",\"2024-10-29T17:15:29.775: Completion Phase ...\",\"12 MB of temporary storage was used.\",\"Succeeded at Tuesday, October 29, 2024 5:15:31 PM (Elapsed Time: 2.82 seconds)\"]' data-show='true'><div id = 'default' /></div></div>"
      ],
      "text/plain": [
       "<geoprocessing server result object object at 0x000001DB35AFA3F0>"
      ]
     },
     "execution_count": 22,
     "metadata": {},
     "output_type": "execute_result"
    }
   ],
   "source": [
    "#calculate optimal path with land cover preferred\n",
    "arcpy.sa.OptimalRegionConnections(\n",
    "    in_regions=\"Dory_endpoints\",\n",
    "    out_feature_class=r\"C:\\Users\\rockx057\\Documents\\ArcGIS\\Projects\\Lab 2 Dory\\Default.gdb\\Optimal_land\",\n",
    "    in_barrier_data=None,\n",
    "    in_cost_raster=\"land_weight\",\n",
    "    out_neighbor_paths=None,\n",
    "    distance_method=\"PLANAR\",\n",
    "    connections_within_regions=\"GENERATE_CONNECTIONS\"\n",
    ")"
   ]
  },
  {
   "cell_type": "code",
   "execution_count": null,
   "metadata": {},
   "outputs": [],
   "source": []
  }
 ],
 "metadata": {
  "kernelspec": {
   "display_name": "ArcGISPro",
   "language": "Python",
   "name": "python3"
  },
  "language_info": {
   "file_extension": ".py",
   "name": "python",
   "version": "3"
  }
 },
 "nbformat": 4,
 "nbformat_minor": 2
}
