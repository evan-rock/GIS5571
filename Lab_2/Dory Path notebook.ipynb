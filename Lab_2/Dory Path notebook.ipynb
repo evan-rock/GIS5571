{
 "cells": [
  {
   "cell_type": "code",
   "execution_count": 1,
   "metadata": {},
   "outputs": [],
   "source": [
    "from arcgis.gis import GIS\n",
    "gis=GIS(\"home\")"
   ]
  },
  {
   "cell_type": "code",
   "execution_count": 12,
   "metadata": {},
   "outputs": [],
   "source": [
    "import arcpy\n",
    "import requests\n",
    "from zipfile import ZipFile\n",
    "import io\n",
    "import os"
   ]
  },
  {
   "cell_type": "code",
   "execution_count": null,
   "metadata": {},
   "outputs": [],
   "source": [
    "land_use_url = \"https://resources.gisdata.mn.gov/pub/gdrs/data/pub/edu_umn/base_landcover_minnesota/tif_base_landcover_minnesota.zip\"\n",
    "land_use_raster = requests.get(land_use_url, allow_redirects=True)\n"
   ]
  },
  {
   "cell_type": "code",
   "execution_count": 14,
   "metadata": {
    "scrolled": true
   },
   "outputs": [
    {
     "name": "stdout",
     "output_type": "stream",
     "text": [
      "https://resources.gisdata.mn.gov/pub/data/elevation/lidar/county/wabasha/laz/4342-29-61.laz\n",
      "https://resources.gisdata.mn.gov/pub/data/elevation/lidar/county/wabasha/laz/4342-29-60.laz\n",
      "https://resources.gisdata.mn.gov/pub/data/elevation/lidar/county/wabasha/laz/4342-29-62.laz\n",
      "https://resources.gisdata.mn.gov/pub/data/elevation/lidar/county/wabasha/laz/4342-29-59.laz\n",
      "https://resources.gisdata.mn.gov/pub/data/elevation/lidar/county/wabasha/laz/4342-28-61.laz\n",
      "https://resources.gisdata.mn.gov/pub/data/elevation/lidar/county/wabasha/laz/4342-28-62.laz\n",
      "https://resources.gisdata.mn.gov/pub/data/elevation/lidar/county/wabasha/laz/4342-28-60.laz\n",
      "https://resources.gisdata.mn.gov/pub/data/elevation/lidar/county/wabasha/laz/4342-28-59.laz\n",
      "https://resources.gisdata.mn.gov/pub/data/elevation/lidar/county/wabasha/laz/4342-31-63.laz\n"
     ]
    }
   ],
   "source": [
    "##for loop for downloading laz files for wabasha county tiles\n",
    "wabasha_tiles = [\"4342-29-61\", \"4342-29-60\", \"4342-29-62\", \"4342-29-59\", \"4342-28-61\", \"4342-28-62\", \"4342-28-60\", \"4342-28-59\", \"4342-31-63\"]\n",
    "\n",
    "for tile in wabasha_tiles:\n",
    "    wabasha_link = r\"https://resources.gisdata.mn.gov/pub/data/elevation/lidar/county/wabasha/laz/\" +str(tile)+ \".laz\"\n",
    "    print(wabasha_link) \n",
    "    wabasha_tiles_laz = requests.get(wabasha_link, allow_redirects=True).content\n",
    "    open(r\"C:\\Users\\rockx057\\Documents\\ArcGIS\\Projects\\Lab 2 path optimization\" +str(tile)+ '.laz', 'wb').write(wabasha_tiles_laz)"
   ]
  },
  {
   "cell_type": "code",
   "execution_count": 15,
   "metadata": {},
   "outputs": [
    {
     "name": "stdout",
     "output_type": "stream",
     "text": [
      "https://resources.gisdata.mn.gov/pub/data/elevation/lidar/county/winona/laz/4342-31-62.laz\n",
      "https://resources.gisdata.mn.gov/pub/data/elevation/lidar/county/winona/laz/4342-30-62.laz\n",
      "https://resources.gisdata.mn.gov/pub/data/elevation/lidar/county/winona/laz/4342-30-63.laz\n",
      "https://resources.gisdata.mn.gov/pub/data/elevation/lidar/county/winona/laz/4342-29-63.laz\n",
      "https://resources.gisdata.mn.gov/pub/data/elevation/lidar/county/winona/laz/4342-28-63.laz\n"
     ]
    },
    {
     "data": {
      "text/plain": [
       "22761742"
      ]
     },
     "execution_count": 15,
     "metadata": {},
     "output_type": "execute_result"
    }
   ],
   "source": [
    "##for loop for downloading laz files for winona county tiles \n",
    "winona_tiles = [\"4342-31-62\", \"4342-30-62\", \"4342-30-63\", \"4342-29-63\", \"4342-28-63\"]\n",
    "for tile in winona_tiles:\n",
    "    winona_link = \"https://resources.gisdata.mn.gov/pub/data/elevation/lidar/county/winona/laz/\" +str(tile)+ \".laz\"\n",
    "    print(winona_link)\n",
    "winona_tiles_laz = requests.get(winona_link, allow_redirects=True).content\n",
    "open(r\"C:\\Users\\rockx057\\Documents\\ArcGIS\\Projects\\Lab 2 path optimization\" +str(tile)+ '.laz', 'wb').write(winona_tiles_laz)"
   ]
  },
  {
   "cell_type": "code",
   "execution_count": 19,
   "metadata": {},
   "outputs": [],
   "source": [
    "##convert all laz files in to las files and save into one las dataset\n",
    "all_tiles = [ \"4342-29-61\", \"4342-29-60\", \"4342-29-62\", \"4342-29-59\", \"4342-28-61\", \"4342-28-62\", \"4342-28-60\", \"4342-28-59\", \"4342-31-63\", \"4342-31-62\", \"4342-30-62\", \"4342-30-63\", \"4342-29-63\", \"4342-28-63\"]\n",
    "for tiles in all_tiles:\n",
    "    with arcpy.EnvManager(scratchWorkspace=r\"C:\\Users\\rockx057\\Documents\\ArcGIS\\Projects\\Lab 2 path optimization\\Default.gdb\", workspace=r\"C:\\Users\\rockx057\\Documents\\ArcGIS\\Projects\\Lab 2 path optimization\\Default.gdb\"):\n",
    "        arcpy.conversion.ConvertLas(\n",
    "            in_las=r\"C:\\Users\\rockx057\\Documents\\ArcGIS\\Projects\\Lab 2 path optimization\" +str(tile)+ \".laz\",\n",
    "            target_folder=r\"C:\\Users\\rockx057\\Documents\\ArcGIS\\Projects\\Lab 2 path optimization\",\n",
    "            file_version=\"SAME_AS_INPUT\",\n",
    "            point_format=\"\",\n",
    "            compression=\"NO_COMPRESSION\",\n",
    "            las_options=\"REARRANGE_POINTS\",\n",
    "            out_las_dataset=r\"C:\\Users\\rockx057\\Documents\\ArcGIS\\Projects\\Lab 2 path optimization\\State park tiles real.lasd\",\n",
    "           define_coordinate_system=\"ALL_FILES\",\n",
    "        in_coordinate_system='GEOGCS[\"GCS_North_American_1983\",DATUM[\"D_North_American_1983\",SPHEROID[\"GRS_1980\",6378137.0,298.257222101]],PRIMEM[\"Greenwich\",0.0],UNIT[\"Degree\",0.0174532925199433]]'\n",
    "\n",
    "        )"
   ]
  },
  {
   "cell_type": "code",
   "execution_count": 21,
   "metadata": {},
   "outputs": [
    {
     "data": {
      "text/html": [
       "<div class='gpresult'><h2>Messages</h2><div id='messages' data-messages='[\"Start Time: Tuesday, October 22, 2024 1:22:03 PM\",\"Succeeded at Tuesday, October 22, 2024 1:22:05 PM (Elapsed Time: 2.17 seconds)\"]' data-show='true'><div id = 'default' /></div></div>"
      ],
      "text/plain": [
       "<Result 'c:\\\\Users\\\\rockx057\\\\documents\\\\ArcGIS\\\\Projects\\\\lab 2 path optimization\\\\Default.gdb\\\\stateparkreal_lasda'>"
      ]
     },
     "execution_count": 21,
     "metadata": {},
     "output_type": "execute_result"
    }
   ],
   "source": [
    "##create DEM from las database\n",
    "arcpy.conversion.LasDatasetToRaster(\n",
    "    in_las_dataset=r\"C:\\Users\\rockx057\\Documents\\ArcGIS\\Projects\\Lab 2 path optimization\\State park tiles real.lasd\",\n",
    "    out_raster=r\"c:\\Users\\rockx057\\documents\\ArcGIS\\Projects\\lab 2 path optimization\\Default.gdb\\stateparkreal_lasda\",\n",
    "    value_field=\"ELEVATION\"\n",
    ")\n"
   ]
  },
  {
   "cell_type": "code",
   "execution_count": null,
   "metadata": {},
   "outputs": [],
   "source": []
  }
 ],
 "metadata": {
  "kernelspec": {
   "display_name": "ArcGISPro",
   "language": "Python",
   "name": "python3"
  },
  "language_info": {
   "file_extension": ".py",
   "name": "python",
   "version": "3"
  }
 },
 "nbformat": 4,
 "nbformat_minor": 2
}
