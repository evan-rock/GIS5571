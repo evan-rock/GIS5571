{
 "cells": [
  {
   "cell_type": "code",
   "execution_count": 1,
   "metadata": {},
   "outputs": [],
   "source": [
    "from arcgis.gis import GIS\n",
    "gis=GIS(\"home\")"
   ]
  },
  {
   "cell_type": "code",
   "execution_count": 2,
   "metadata": {},
   "outputs": [],
   "source": [
    "import arcpy\n",
    "import pandas as pd\n",
    "import io\n",
    "import os\n",
    "from arcgis.features import GeoAccessor, GeoSeriesAccessor, FeatureSet\n",
    "import requests\n",
    "from zipfile import ZipFile"
   ]
  },
  {
   "cell_type": "code",
   "execution_count": 3,
   "metadata": {
    "scrolled": true
   },
   "outputs": [
    {
     "data": {
      "text/html": [
       "<div>\n",
       "<style scoped>\n",
       "    .dataframe tbody tr th:only-of-type {\n",
       "        vertical-align: middle;\n",
       "    }\n",
       "\n",
       "    .dataframe tbody tr th {\n",
       "        vertical-align: top;\n",
       "    }\n",
       "\n",
       "    .dataframe thead th {\n",
       "        text-align: right;\n",
       "    }\n",
       "</style>\n",
       "<table border=\"1\" class=\"dataframe\">\n",
       "  <thead>\n",
       "    <tr style=\"text-align: right;\">\n",
       "      <th></th>\n",
       "      <th>GAN</th>\n",
       "      <th>Preferred ID</th>\n",
       "      <th>ScientificName</th>\n",
       "      <th>CommonName</th>\n",
       "      <th>sex</th>\n",
       "      <th>date</th>\n",
       "      <th>event</th>\n",
       "      <th>terms</th>\n",
       "      <th>Latitude</th>\n",
       "      <th>Longitude</th>\n",
       "      <th>Comment</th>\n",
       "      <th>age in days at time of transaction</th>\n",
       "      <th>Reportable Lead</th>\n",
       "    </tr>\n",
       "  </thead>\n",
       "  <tbody>\n",
       "    <tr>\n",
       "      <th>0</th>\n",
       "      <td>LFJ22-00029</td>\n",
       "      <td>21-1018</td>\n",
       "      <td>Haliaeetus leucocephalus</td>\n",
       "      <td>Bald eagle</td>\n",
       "      <td>Female</td>\n",
       "      <td>19-Dec-21</td>\n",
       "      <td>Rescued</td>\n",
       "      <td>Rescued (physical only)</td>\n",
       "      <td>45.1984344</td>\n",
       "      <td>-92.770531</td>\n",
       "      <td>Primary Recovery Contact:     Last name : Pe...</td>\n",
       "      <td>718.0</td>\n",
       "      <td>no</td>\n",
       "    </tr>\n",
       "    <tr>\n",
       "      <th>1</th>\n",
       "      <td>LFJ22-00033</td>\n",
       "      <td>21-395</td>\n",
       "      <td>Haliaeetus leucocephalus</td>\n",
       "      <td>Bald eagle</td>\n",
       "      <td>Female</td>\n",
       "      <td>4-Jul-21</td>\n",
       "      <td>Rescued</td>\n",
       "      <td>Rescued (physical only)</td>\n",
       "      <td>43.71864581</td>\n",
       "      <td>-91.972298</td>\n",
       "      <td>Primary Recovery Contact:     Last name : Ro...</td>\n",
       "      <td>184.0</td>\n",
       "      <td>no</td>\n",
       "    </tr>\n",
       "    <tr>\n",
       "      <th>2</th>\n",
       "      <td>LFJ22-00037</td>\n",
       "      <td>21-724</td>\n",
       "      <td>Haliaeetus leucocephalus</td>\n",
       "      <td>Bald eagle</td>\n",
       "      <td>Male</td>\n",
       "      <td>4-Sep-21</td>\n",
       "      <td>Rescued</td>\n",
       "      <td>Rescued (physical only)</td>\n",
       "      <td>46.5535705</td>\n",
       "      <td>-95.716435</td>\n",
       "      <td>Primary Recovery Contact:     Last name : Ob...</td>\n",
       "      <td>2073.0</td>\n",
       "      <td>no</td>\n",
       "    </tr>\n",
       "    <tr>\n",
       "      <th>3</th>\n",
       "      <td>LFJ22-00038</td>\n",
       "      <td>21-740</td>\n",
       "      <td>Haliaeetus leucocephalus</td>\n",
       "      <td>Bald eagle</td>\n",
       "      <td>Male</td>\n",
       "      <td>9-Sep-21</td>\n",
       "      <td>Rescued</td>\n",
       "      <td>Rescued (physical only)</td>\n",
       "      <td>45.277914</td>\n",
       "      <td>-92.694970</td>\n",
       "      <td>Primary Recovery Contact:     Last name : Tu...</td>\n",
       "      <td>2078.0</td>\n",
       "      <td>no</td>\n",
       "    </tr>\n",
       "    <tr>\n",
       "      <th>4</th>\n",
       "      <td>LFJ22-00041</td>\n",
       "      <td>21-851</td>\n",
       "      <td>Haliaeetus leucocephalus</td>\n",
       "      <td>Bald eagle</td>\n",
       "      <td>Male</td>\n",
       "      <td>5-Oct-21</td>\n",
       "      <td>Rescued</td>\n",
       "      <td>Rescued (physical only)</td>\n",
       "      <td>46.6211855</td>\n",
       "      <td>-92.112298</td>\n",
       "      <td>Primary Recovery Contact:     Last name : Ge...</td>\n",
       "      <td>2104.0</td>\n",
       "      <td>no</td>\n",
       "    </tr>\n",
       "    <tr>\n",
       "      <th>...</th>\n",
       "      <td>...</td>\n",
       "      <td>...</td>\n",
       "      <td>...</td>\n",
       "      <td>...</td>\n",
       "      <td>...</td>\n",
       "      <td>...</td>\n",
       "      <td>...</td>\n",
       "      <td>...</td>\n",
       "      <td>...</td>\n",
       "      <td>...</td>\n",
       "      <td>...</td>\n",
       "      <td>...</td>\n",
       "      <td>...</td>\n",
       "    </tr>\n",
       "    <tr>\n",
       "      <th>558</th>\n",
       "      <td>LFJ24-03219</td>\n",
       "      <td>D24-083</td>\n",
       "      <td>Haliaeetus leucocephalus</td>\n",
       "      <td>Bald eagle</td>\n",
       "      <td>Male</td>\n",
       "      <td>27-Jul-24</td>\n",
       "      <td>Rescued</td>\n",
       "      <td>Rescued (physical only)</td>\n",
       "      <td>45.12738507</td>\n",
       "      <td>-93.867659</td>\n",
       "      <td>Primary Recovery Contact:     Last name : Wa...</td>\n",
       "      <td>1303.0</td>\n",
       "      <td>no</td>\n",
       "    </tr>\n",
       "    <tr>\n",
       "      <th>559</th>\n",
       "      <td>LFJ24-03269</td>\n",
       "      <td>D24-090</td>\n",
       "      <td>Haliaeetus leucocephalus</td>\n",
       "      <td>Bald eagle</td>\n",
       "      <td>Female</td>\n",
       "      <td>2-Aug-24</td>\n",
       "      <td>Rescued</td>\n",
       "      <td>Rescued (physical only)</td>\n",
       "      <td>44.79096956</td>\n",
       "      <td>-93.200607</td>\n",
       "      <td>Primary Recovery Contact:     Last name : Gi...</td>\n",
       "      <td>2405.0</td>\n",
       "      <td>no</td>\n",
       "    </tr>\n",
       "    <tr>\n",
       "      <th>560</th>\n",
       "      <td>LFJ24-03409</td>\n",
       "      <td>D24-098</td>\n",
       "      <td>Haliaeetus leucocephalus</td>\n",
       "      <td>Bald eagle</td>\n",
       "      <td>Undetermined</td>\n",
       "      <td>26-Aug-24</td>\n",
       "      <td>Rescued</td>\n",
       "      <td>Rescued (physical only)</td>\n",
       "      <td>44.52982529</td>\n",
       "      <td>-92.330040</td>\n",
       "      <td>Primary Recovery Contact:     Last name : Mo...</td>\n",
       "      <td>2064.0</td>\n",
       "      <td>no</td>\n",
       "    </tr>\n",
       "    <tr>\n",
       "      <th>561</th>\n",
       "      <td>LFJ24-03421</td>\n",
       "      <td>D24-099</td>\n",
       "      <td>Haliaeetus leucocephalus</td>\n",
       "      <td>Bald eagle</td>\n",
       "      <td>Undetermined</td>\n",
       "      <td>29-Aug-24</td>\n",
       "      <td>Rescued</td>\n",
       "      <td>Rescued (physical only)</td>\n",
       "      <td>45.04485237</td>\n",
       "      <td>-95.024243</td>\n",
       "      <td>Primary Recovery Contact:     Last name : Bl...</td>\n",
       "      <td>241.0</td>\n",
       "      <td>no</td>\n",
       "    </tr>\n",
       "    <tr>\n",
       "      <th>562</th>\n",
       "      <td>LFJ24-03459</td>\n",
       "      <td>D24-101</td>\n",
       "      <td>Haliaeetus leucocephalus</td>\n",
       "      <td>Bald eagle</td>\n",
       "      <td>Male</td>\n",
       "      <td>4-Sep-24</td>\n",
       "      <td>Rescued</td>\n",
       "      <td>Rescued (physical only)</td>\n",
       "      <td>45.95450386</td>\n",
       "      <td>-95.345209</td>\n",
       "      <td>Primary Recovery Contact:     Last name : Ar...</td>\n",
       "      <td>2073.0</td>\n",
       "      <td>no</td>\n",
       "    </tr>\n",
       "  </tbody>\n",
       "</table>\n",
       "<p>563 rows × 13 columns</p>\n",
       "</div>"
      ],
      "text/plain": [
       "             GAN  ... Reportable Lead\n",
       "0    LFJ22-00029  ...              no\n",
       "1    LFJ22-00033  ...              no\n",
       "2    LFJ22-00037  ...              no\n",
       "3    LFJ22-00038  ...              no\n",
       "4    LFJ22-00041  ...              no\n",
       "..           ...  ...             ...\n",
       "558  LFJ24-03219  ...              no\n",
       "559  LFJ24-03269  ...              no\n",
       "560  LFJ24-03409  ...              no\n",
       "561  LFJ24-03421  ...              no\n",
       "562  LFJ24-03459  ...              no\n",
       "\n",
       "[563 rows x 13 columns]"
      ]
     },
     "execution_count": 3,
     "metadata": {},
     "output_type": "execute_result"
    }
   ],
   "source": [
    "##transform eagle data csv into a dataframe\n",
    "eagle_df = pd.read_csv(r\"C:\\Users\\rockx057\\Documents\\Final Project\\Bald Eagle Data with Lead Tag CSV.csv\")\n",
    "eagle_df"
   ]
  },
  {
   "cell_type": "code",
   "execution_count": 4,
   "metadata": {
    "scrolled": true
   },
   "outputs": [],
   "source": [
    "eagle_df['Latitude'] = eagle_df['Latitude'].astype(float)"
   ]
  },
  {
   "cell_type": "code",
   "execution_count": 5,
   "metadata": {},
   "outputs": [],
   "source": [
    "eagle_df['Longitude'] = eagle_df['Longitude'].astype(float)"
   ]
  },
  {
   "cell_type": "code",
   "execution_count": 6,
   "metadata": {},
   "outputs": [
    {
     "data": {
      "text/html": [
       "<div>\n",
       "<style scoped>\n",
       "    .dataframe tbody tr th:only-of-type {\n",
       "        vertical-align: middle;\n",
       "    }\n",
       "\n",
       "    .dataframe tbody tr th {\n",
       "        vertical-align: top;\n",
       "    }\n",
       "\n",
       "    .dataframe thead th {\n",
       "        text-align: right;\n",
       "    }\n",
       "</style>\n",
       "<table border=\"1\" class=\"dataframe\">\n",
       "  <thead>\n",
       "    <tr style=\"text-align: right;\">\n",
       "      <th></th>\n",
       "      <th>GAN</th>\n",
       "      <th>Preferred ID</th>\n",
       "      <th>ScientificName</th>\n",
       "      <th>CommonName</th>\n",
       "      <th>sex</th>\n",
       "      <th>date</th>\n",
       "      <th>event</th>\n",
       "      <th>terms</th>\n",
       "      <th>Latitude</th>\n",
       "      <th>Longitude</th>\n",
       "      <th>Comment</th>\n",
       "      <th>age in days at time of transaction</th>\n",
       "      <th>Reportable Lead</th>\n",
       "      <th>SHAPE</th>\n",
       "    </tr>\n",
       "  </thead>\n",
       "  <tbody>\n",
       "    <tr>\n",
       "      <th>0</th>\n",
       "      <td>LFJ22-00029</td>\n",
       "      <td>21-1018</td>\n",
       "      <td>Haliaeetus leucocephalus</td>\n",
       "      <td>Bald eagle</td>\n",
       "      <td>Female</td>\n",
       "      <td>19-Dec-21</td>\n",
       "      <td>Rescued</td>\n",
       "      <td>Rescued (physical only)</td>\n",
       "      <td>45.198434</td>\n",
       "      <td>-92.770531</td>\n",
       "      <td>Primary Recovery Contact:     Last name : Pe...</td>\n",
       "      <td>718.0</td>\n",
       "      <td>no</td>\n",
       "      <td>{\"spatialReference\": {\"wkid\": 4326}, \"x\": -92....</td>\n",
       "    </tr>\n",
       "    <tr>\n",
       "      <th>1</th>\n",
       "      <td>LFJ22-00033</td>\n",
       "      <td>21-395</td>\n",
       "      <td>Haliaeetus leucocephalus</td>\n",
       "      <td>Bald eagle</td>\n",
       "      <td>Female</td>\n",
       "      <td>4-Jul-21</td>\n",
       "      <td>Rescued</td>\n",
       "      <td>Rescued (physical only)</td>\n",
       "      <td>43.718646</td>\n",
       "      <td>-91.972298</td>\n",
       "      <td>Primary Recovery Contact:     Last name : Ro...</td>\n",
       "      <td>184.0</td>\n",
       "      <td>no</td>\n",
       "      <td>{\"spatialReference\": {\"wkid\": 4326}, \"x\": -91....</td>\n",
       "    </tr>\n",
       "    <tr>\n",
       "      <th>2</th>\n",
       "      <td>LFJ22-00037</td>\n",
       "      <td>21-724</td>\n",
       "      <td>Haliaeetus leucocephalus</td>\n",
       "      <td>Bald eagle</td>\n",
       "      <td>Male</td>\n",
       "      <td>4-Sep-21</td>\n",
       "      <td>Rescued</td>\n",
       "      <td>Rescued (physical only)</td>\n",
       "      <td>46.553570</td>\n",
       "      <td>-95.716435</td>\n",
       "      <td>Primary Recovery Contact:     Last name : Ob...</td>\n",
       "      <td>2073.0</td>\n",
       "      <td>no</td>\n",
       "      <td>{\"spatialReference\": {\"wkid\": 4326}, \"x\": -95....</td>\n",
       "    </tr>\n",
       "    <tr>\n",
       "      <th>3</th>\n",
       "      <td>LFJ22-00038</td>\n",
       "      <td>21-740</td>\n",
       "      <td>Haliaeetus leucocephalus</td>\n",
       "      <td>Bald eagle</td>\n",
       "      <td>Male</td>\n",
       "      <td>9-Sep-21</td>\n",
       "      <td>Rescued</td>\n",
       "      <td>Rescued (physical only)</td>\n",
       "      <td>45.277914</td>\n",
       "      <td>-92.694970</td>\n",
       "      <td>Primary Recovery Contact:     Last name : Tu...</td>\n",
       "      <td>2078.0</td>\n",
       "      <td>no</td>\n",
       "      <td>{\"spatialReference\": {\"wkid\": 4326}, \"x\": -92....</td>\n",
       "    </tr>\n",
       "    <tr>\n",
       "      <th>4</th>\n",
       "      <td>LFJ22-00041</td>\n",
       "      <td>21-851</td>\n",
       "      <td>Haliaeetus leucocephalus</td>\n",
       "      <td>Bald eagle</td>\n",
       "      <td>Male</td>\n",
       "      <td>5-Oct-21</td>\n",
       "      <td>Rescued</td>\n",
       "      <td>Rescued (physical only)</td>\n",
       "      <td>46.621186</td>\n",
       "      <td>-92.112298</td>\n",
       "      <td>Primary Recovery Contact:     Last name : Ge...</td>\n",
       "      <td>2104.0</td>\n",
       "      <td>no</td>\n",
       "      <td>{\"spatialReference\": {\"wkid\": 4326}, \"x\": -92....</td>\n",
       "    </tr>\n",
       "    <tr>\n",
       "      <th>...</th>\n",
       "      <td>...</td>\n",
       "      <td>...</td>\n",
       "      <td>...</td>\n",
       "      <td>...</td>\n",
       "      <td>...</td>\n",
       "      <td>...</td>\n",
       "      <td>...</td>\n",
       "      <td>...</td>\n",
       "      <td>...</td>\n",
       "      <td>...</td>\n",
       "      <td>...</td>\n",
       "      <td>...</td>\n",
       "      <td>...</td>\n",
       "      <td>...</td>\n",
       "    </tr>\n",
       "    <tr>\n",
       "      <th>558</th>\n",
       "      <td>LFJ24-03219</td>\n",
       "      <td>D24-083</td>\n",
       "      <td>Haliaeetus leucocephalus</td>\n",
       "      <td>Bald eagle</td>\n",
       "      <td>Male</td>\n",
       "      <td>27-Jul-24</td>\n",
       "      <td>Rescued</td>\n",
       "      <td>Rescued (physical only)</td>\n",
       "      <td>45.127385</td>\n",
       "      <td>-93.867659</td>\n",
       "      <td>Primary Recovery Contact:     Last name : Wa...</td>\n",
       "      <td>1303.0</td>\n",
       "      <td>no</td>\n",
       "      <td>{\"spatialReference\": {\"wkid\": 4326}, \"x\": -93....</td>\n",
       "    </tr>\n",
       "    <tr>\n",
       "      <th>559</th>\n",
       "      <td>LFJ24-03269</td>\n",
       "      <td>D24-090</td>\n",
       "      <td>Haliaeetus leucocephalus</td>\n",
       "      <td>Bald eagle</td>\n",
       "      <td>Female</td>\n",
       "      <td>2-Aug-24</td>\n",
       "      <td>Rescued</td>\n",
       "      <td>Rescued (physical only)</td>\n",
       "      <td>44.790970</td>\n",
       "      <td>-93.200607</td>\n",
       "      <td>Primary Recovery Contact:     Last name : Gi...</td>\n",
       "      <td>2405.0</td>\n",
       "      <td>no</td>\n",
       "      <td>{\"spatialReference\": {\"wkid\": 4326}, \"x\": -93....</td>\n",
       "    </tr>\n",
       "    <tr>\n",
       "      <th>560</th>\n",
       "      <td>LFJ24-03409</td>\n",
       "      <td>D24-098</td>\n",
       "      <td>Haliaeetus leucocephalus</td>\n",
       "      <td>Bald eagle</td>\n",
       "      <td>Undetermined</td>\n",
       "      <td>26-Aug-24</td>\n",
       "      <td>Rescued</td>\n",
       "      <td>Rescued (physical only)</td>\n",
       "      <td>44.529825</td>\n",
       "      <td>-92.330040</td>\n",
       "      <td>Primary Recovery Contact:     Last name : Mo...</td>\n",
       "      <td>2064.0</td>\n",
       "      <td>no</td>\n",
       "      <td>{\"spatialReference\": {\"wkid\": 4326}, \"x\": -92....</td>\n",
       "    </tr>\n",
       "    <tr>\n",
       "      <th>561</th>\n",
       "      <td>LFJ24-03421</td>\n",
       "      <td>D24-099</td>\n",
       "      <td>Haliaeetus leucocephalus</td>\n",
       "      <td>Bald eagle</td>\n",
       "      <td>Undetermined</td>\n",
       "      <td>29-Aug-24</td>\n",
       "      <td>Rescued</td>\n",
       "      <td>Rescued (physical only)</td>\n",
       "      <td>45.044852</td>\n",
       "      <td>-95.024243</td>\n",
       "      <td>Primary Recovery Contact:     Last name : Bl...</td>\n",
       "      <td>241.0</td>\n",
       "      <td>no</td>\n",
       "      <td>{\"spatialReference\": {\"wkid\": 4326}, \"x\": -95....</td>\n",
       "    </tr>\n",
       "    <tr>\n",
       "      <th>562</th>\n",
       "      <td>LFJ24-03459</td>\n",
       "      <td>D24-101</td>\n",
       "      <td>Haliaeetus leucocephalus</td>\n",
       "      <td>Bald eagle</td>\n",
       "      <td>Male</td>\n",
       "      <td>4-Sep-24</td>\n",
       "      <td>Rescued</td>\n",
       "      <td>Rescued (physical only)</td>\n",
       "      <td>45.954504</td>\n",
       "      <td>-95.345209</td>\n",
       "      <td>Primary Recovery Contact:     Last name : Ar...</td>\n",
       "      <td>2073.0</td>\n",
       "      <td>no</td>\n",
       "      <td>{\"spatialReference\": {\"wkid\": 4326}, \"x\": -95....</td>\n",
       "    </tr>\n",
       "  </tbody>\n",
       "</table>\n",
       "<p>563 rows × 14 columns</p>\n",
       "</div>"
      ],
      "text/plain": [
       "             GAN  ...                                              SHAPE\n",
       "0    LFJ22-00029  ...  {\"spatialReference\": {\"wkid\": 4326}, \"x\": -92....\n",
       "1    LFJ22-00033  ...  {\"spatialReference\": {\"wkid\": 4326}, \"x\": -91....\n",
       "2    LFJ22-00037  ...  {\"spatialReference\": {\"wkid\": 4326}, \"x\": -95....\n",
       "3    LFJ22-00038  ...  {\"spatialReference\": {\"wkid\": 4326}, \"x\": -92....\n",
       "4    LFJ22-00041  ...  {\"spatialReference\": {\"wkid\": 4326}, \"x\": -92....\n",
       "..           ...  ...                                                ...\n",
       "558  LFJ24-03219  ...  {\"spatialReference\": {\"wkid\": 4326}, \"x\": -93....\n",
       "559  LFJ24-03269  ...  {\"spatialReference\": {\"wkid\": 4326}, \"x\": -93....\n",
       "560  LFJ24-03409  ...  {\"spatialReference\": {\"wkid\": 4326}, \"x\": -92....\n",
       "561  LFJ24-03421  ...  {\"spatialReference\": {\"wkid\": 4326}, \"x\": -95....\n",
       "562  LFJ24-03459  ...  {\"spatialReference\": {\"wkid\": 4326}, \"x\": -95....\n",
       "\n",
       "[563 rows x 14 columns]"
      ]
     },
     "execution_count": 6,
     "metadata": {},
     "output_type": "execute_result"
    }
   ],
   "source": [
    "Eagle_sedf = GeoAccessor.from_xy(eagle_df, 'Longitude', 'Latitude')\n",
    "Eagle_sedf"
   ]
  },
  {
   "cell_type": "code",
   "execution_count": 14,
   "metadata": {},
   "outputs": [
    {
     "data": {
      "text/plain": [
       "'C:\\\\Users\\\\rockx057\\\\Documents\\\\ArcGIS\\\\Projects\\\\5571 final project\\\\5571 final project.gdb\\\\eagle_points'"
      ]
     },
     "execution_count": 14,
     "metadata": {},
     "output_type": "execute_result"
    }
   ],
   "source": [
    "Eagle_sedf.spatial.to_featureclass(r\"C:\\Users\\rockx057\\Documents\\ArcGIS\\Projects\\5571 final project\\5571 final project.gdb\\eagle_points\")"
   ]
  },
  {
   "cell_type": "code",
   "execution_count": 15,
   "metadata": {},
   "outputs": [
    {
     "data": {
      "text/html": [
       "<div class='gpresult'><h2>Messages</h2><div id='messages' data-messages='[\"Start Time: Tuesday, November 5, 2024 5:23:19 PM\",\"Succeeded at Tuesday, November 5, 2024 5:23:22 PM (Elapsed Time: 2.61 seconds)\"]' data-show='true'><div id = 'default' /></div></div>"
      ],
      "text/plain": [
       "<Result 'C:\\\\Users\\\\rockx057\\\\Documents\\\\ArcGIS\\\\Projects\\\\5571 final project\\\\5571 final project.gdb\\\\deer_harvest_2023_fc'>"
      ]
     },
     "execution_count": 15,
     "metadata": {},
     "output_type": "execute_result"
    }
   ],
   "source": [
    "arcpy.conversion.ExportFeatures(\n",
    "    in_features=\"deer_harvest_2023\",\n",
    "    out_features=r\"C:\\Users\\rockx057\\Documents\\ArcGIS\\Projects\\5571 final project\\5571 final project.gdb\\deer_harvest_2023_fc\",\n",
    ")"
   ]
  },
  {
   "cell_type": "code",
   "execution_count": 16,
   "metadata": {},
   "outputs": [
    {
     "data": {
      "text/html": [
       "<div class='gpresult'><h2>Messages</h2><div id='messages' data-messages='[\"Start Time: Tuesday, November 5, 2024 5:41:25 PM\",\"Succeeded at Tuesday, November 5, 2024 5:41:27 PM (Elapsed Time: 1.96 seconds)\"]' data-show='true'><div id = 'default' /></div></div>"
      ],
      "text/plain": [
       "<Result 'C:\\\\Users\\\\rockx057\\\\Documents\\\\ArcGIS\\\\Projects\\\\5571 final project\\\\5571 final project.gdb\\\\deer_harvest_2022_fc'>"
      ]
     },
     "execution_count": 16,
     "metadata": {},
     "output_type": "execute_result"
    }
   ],
   "source": [
    "arcpy.conversion.ExportFeatures(\n",
    "    in_features=\"deer_harvest_2022\",\n",
    "    out_features=r\"C:\\Users\\rockx057\\Documents\\ArcGIS\\Projects\\5571 final project\\5571 final project.gdb\\deer_harvest_2022_fc\",\n",
    ")"
   ]
  },
  {
   "cell_type": "code",
   "execution_count": 18,
   "metadata": {},
   "outputs": [
    {
     "data": {
      "text/html": [
       "<div class='gpresult'><h2>Messages</h2><div id='messages' data-messages='[\"Start Time: Tuesday, November 5, 2024 5:44:16 PM\",\"Succeeded at Tuesday, November 5, 2024 5:44:19 PM (Elapsed Time: 2.55 seconds)\"]' data-show='true'><div id = 'default' /></div></div>"
      ],
      "text/plain": [
       "<Result 'C:\\\\Users\\\\rockx057\\\\Documents\\\\ArcGIS\\\\Projects\\\\5571 final project\\\\5571 final project.gdb\\\\deer_harvest_2021_fc'>"
      ]
     },
     "execution_count": 18,
     "metadata": {},
     "output_type": "execute_result"
    }
   ],
   "source": [
    "arcpy.conversion.ExportFeatures(\n",
    "    in_features=\"deer_harvest_2021\",\n",
    "    out_features=r\"C:\\Users\\rockx057\\Documents\\ArcGIS\\Projects\\5571 final project\\5571 final project.gdb\\deer_harvest_2021_fc\",\n",
    ")"
   ]
  },
  {
   "cell_type": "code",
   "execution_count": 1,
   "metadata": {},
   "outputs": [
    {
     "data": {
      "text/html": [
       "<div class='gpresult'><h2>Messages</h2><div id='messages' data-messages='[\"Start Time: Tuesday, November 5, 2024 6:29:58 PM\",[{\"element\":\"table\",\"data\":[[\"Upper Bound\",\"Reclassed Value\"],[\"\\u003c= 406\",\"1\"],[\"\\u003c= 651\",\"2\"],[\"\\u003c= 1150\",\"3\"],[\"\\u003c= 2121\",\"4\"],[\"\\u003c= 8070\",\"5\"]],\"elementProps\":{\"striped\":\"true\",\"title\":\"Reclassification\",\"0\":{\"align\":\"Left\",\"pad\":\"0px\",\"wrap\":true},\"1\":{\"align\":\"Left\",\"pad\":\"0px\",\"wrap\":true}}}],\"\",\"Succeeded at Tuesday, November 5, 2024 6:30:12 PM (Elapsed Time: 14.55 seconds)\"]' data-show='true'><div id = 'default' /></div></div>"
      ],
      "text/plain": [
       "<Result 'deer_harvest_2021_fc'>"
      ]
     },
     "execution_count": 1,
     "metadata": {},
     "output_type": "execute_result"
    }
   ],
   "source": [
    "arcpy.management.ReclassifyField(\n",
    "    in_table=\"deer_harvest_2021_fc\",\n",
    "    field=\"TotalHarv\",\n",
    "    method=\"QUANTILE\",\n",
    "    classes=5,\n",
    "    interval=None,\n",
    "    standard_deviations=\"ONE\",\n",
    "    reclass_table=None,\n",
    "    reverse_values=\"ASC\",\n",
    "    output_field_name=\"TotalHarv_QUANTILE\"\n",
    ")"
   ]
  },
  {
   "cell_type": "code",
   "execution_count": 2,
   "metadata": {},
   "outputs": [
    {
     "data": {
      "text/html": [
       "<div class='gpresult'><h2>Messages</h2><div id='messages' data-messages='[\"Start Time: Tuesday, November 5, 2024 6:32:44 PM\",[{\"element\":\"table\",\"data\":[[\"Upper Bound\",\"Reclassed Value\"],[\"\\u003c= 382\",\"1\"],[\"\\u003c= 634\",\"2\"],[\"\\u003c= 1012\",\"3\"],[\"\\u003c= 2074\",\"4\"],[\"\\u003c= 6974\",\"5\"]],\"elementProps\":{\"striped\":\"true\",\"title\":\"Reclassification\",\"0\":{\"align\":\"Left\",\"pad\":\"0px\",\"wrap\":true},\"1\":{\"align\":\"Left\",\"pad\":\"0px\",\"wrap\":true}}}],\"\",\"Succeeded at Tuesday, November 5, 2024 6:32:54 PM (Elapsed Time: 9.96 seconds)\"]' data-show='true'><div id = 'default' /></div></div>"
      ],
      "text/plain": [
       "<Result 'deer_harvest_2022_fc'>"
      ]
     },
     "execution_count": 2,
     "metadata": {},
     "output_type": "execute_result"
    }
   ],
   "source": [
    "arcpy.management.ReclassifyField(\n",
    "    in_table=\"deer_harvest_2022_fc\",\n",
    "    field=\"TotalHarv\",\n",
    "    method=\"QUANTILE\",\n",
    "    classes=5,\n",
    "    interval=None,\n",
    "    standard_deviations=\"ONE\",\n",
    "    reclass_table=None,\n",
    "    reverse_values=\"ASC\",\n",
    "    output_field_name=\"TotalHarv_QUANTILE\"\n",
    ")"
   ]
  },
  {
   "cell_type": "code",
   "execution_count": 3,
   "metadata": {},
   "outputs": [
    {
     "data": {
      "text/html": [
       "<div class='gpresult'><h2>Messages</h2><div id='messages' data-messages='[\"Start Time: Tuesday, November 5, 2024 6:33:03 PM\",[{\"element\":\"table\",\"data\":[[\"Upper Bound\",\"Reclassed Value\"],[\"\\u003c= 354\",\"1\"],[\"\\u003c= 605\",\"2\"],[\"\\u003c= 930\",\"3\"],[\"\\u003c= 2046\",\"4\"],[\"\\u003c= 6052\",\"5\"]],\"elementProps\":{\"striped\":\"true\",\"title\":\"Reclassification\",\"0\":{\"align\":\"Left\",\"pad\":\"0px\",\"wrap\":true},\"1\":{\"align\":\"Left\",\"pad\":\"0px\",\"wrap\":true}}}],\"\",\"Succeeded at Tuesday, November 5, 2024 6:33:13 PM (Elapsed Time: 9.80 seconds)\"]' data-show='true'><div id = 'default' /></div></div>"
      ],
      "text/plain": [
       "<Result 'deer_harvest_2023_fc'>"
      ]
     },
     "execution_count": 3,
     "metadata": {},
     "output_type": "execute_result"
    }
   ],
   "source": [
    "arcpy.management.ReclassifyField(\n",
    "    in_table=\"deer_harvest_2023_fc\",\n",
    "    field=\"TotalHarv\",\n",
    "    method=\"QUANTILE\",\n",
    "    classes=5,\n",
    "    interval=None,\n",
    "    standard_deviations=\"ONE\",\n",
    "    reclass_table=None,\n",
    "    reverse_values=\"ASC\",\n",
    "    output_field_name=\"TotalHarv_QUANTILE\"\n",
    ")"
   ]
  },
  {
   "cell_type": "code",
   "execution_count": 1,
   "metadata": {},
   "outputs": [
    {
     "data": {
      "text/html": [
       "<div class='gpresult'><h2>Messages</h2><div id='messages' data-messages='[\"Start Time: Tuesday, November 12, 2024 5:10:22 PM\",\"Succeeded at Tuesday, November 12, 2024 5:10:26 PM (Elapsed Time: 3.83 seconds)\"]' data-show='true'><div id = 'default' /></div></div>"
      ],
      "text/plain": [
       "<Result 'C:\\\\Users\\\\rockx057\\\\Documents\\\\ArcGIS\\\\Projects\\\\5571 final project\\\\5571 final project.gdb\\\\deer_harvest_202_SpatialJoin'>"
      ]
     },
     "execution_count": 1,
     "metadata": {},
     "output_type": "execute_result"
    }
   ],
   "source": [
    "arcpy.analysis.SpatialJoin(\n",
    "    target_features=\"deer_harvest_2021_fc\",\n",
    "    join_features=\"deer_harvest_2022_fc\",\n",
    "    out_feature_class=r\"C:\\Users\\rockx057\\Documents\\ArcGIS\\Projects\\5571 final project\\5571 final project.gdb\\deer_harvest_202_SpatialJoin\",\n",
    "    join_operation=\"JOIN_ONE_TO_ONE\",\n",
    "    join_type=\"KEEP_ALL\",\n",
    "    field_mapping='TOTPASQMI \"TOTPASQMI\" true true false 8 Double 0 0,First,#,deer_harvest_2021_fc,TOTPASQMI,-1,-1;SQMILEWA_1 \"SQMILEWA_1\" true true false 8 Double 0 0,First,#,deer_harvest_2021_fc,SQMILEWA_1,-1,-1;SQMILENONW \"SQMILENONW\" true true false 8 Double 0 0,First,#,deer_harvest_2021_fc,SQMILENONW,-1,-1;MANAGEMENT \"MANAGEMENT\" true true false 50 Text 0 0,First,#,deer_harvest_2021_fc,MANAGEMENT,0,49;Designatio \"Designatio\" true true false 100 Text 0 0,First,#,deer_harvest_2021_fc,Designatio,0,99;Archery \"Archery\" true true false 50 Text 0 0,First,#,deer_harvest_2021_fc,Archery,0,49;FirearmA \"FirearmA\" true true false 50 Text 0 0,First,#,deer_harvest_2021_fc,FirearmA,0,49;FirearmB \"FirearmB\" true true false 50 Text 0 0,First,#,deer_harvest_2021_fc,FirearmB,0,49;Youth \"Youth\" true true false 50 Text 0 0,First,#,deer_harvest_2021_fc,Youth,0,49;EarlyAntle \"EarlyAntle\" true true false 50 Text 0 0,First,#,deer_harvest_2021_fc,EarlyAntle,0,49;Muzzleload \"Muzzleload\" true true false 50 Text 0 0,First,#,deer_harvest_2021_fc,Muzzleload,0,49;FirearmTyp \"FirearmTyp\" true true false 100 Text 0 0,First,#,deer_harvest_2021_fc,FirearmTyp,0,99;PDFReport \"PDFReport\" true true false 254 Text 0 0,First,#,deer_harvest_2021_fc,PDFReport,0,253;MapTitle \"MapTitle\" true true false 100 Text 0 0,First,#,deer_harvest_2021_fc,MapTitle,0,99;SpecialReg \"SpecialReg\" true true false 150 Text 0 0,First,#,deer_harvest_2021_fc,SpecialReg,0,149;DiseMgmt \"DiseMgmt\" true true false 150 Text 0 0,First,#,deer_harvest_2021_fc,DiseMgmt,0,149;Area \"Area\" true true false 8 Double 0 0,First,#,deer_harvest_2021_fc,Area,-1,-1;Perimeter \"Perimeter\" true true false 8 Double 0 0,First,#,deer_harvest_2021_fc,Perimeter,-1,-1;Acres \"Acres\" true true false 8 Double 0 0,First,#,deer_harvest_2021_fc,Acres,-1,-1;Shape_Leng \"Shape_Leng\" true true false 8 Double 0 0,First,#,deer_harvest_2021_fc,Shape_Leng,-1,-1;PDFMap \"PDFMap\" true true false 30 Text 0 0,First,#,deer_harvest_2021_fc,PDFMap,0,29;LateSeason \"LateSeason\" true true false 50 Text 0 0,First,#,deer_harvest_2021_fc,LateSeason,0,49;EffPeriod \"EffPeriod\" true true false 50 Text 0 0,First,#,deer_harvest_2021_fc,EffPeriod,0,49;DisePage \"DisePage\" true true false 254 Text 0 0,First,#,deer_harvest_2021_fc,DisePage,0,253;DiseSamp \"DiseSamp\" true true false 150 Text 0 0,First,#,deer_harvest_2021_fc,DiseSamp,0,149;CarcMovmt \"CarcMovmt\" true true false 150 Text 0 0,First,#,deer_harvest_2021_fc,CarcMovmt,0,149;CarcPage \"CarcPage\" true true false 254 Text 0 0,First,#,deer_harvest_2021_fc,CarcPage,0,253;DesgPage \"DesgPage\" true true false 254 Text 0 0,First,#,deer_harvest_2021_fc,DesgPage,0,253;DPA \"DPA\" true true false 4 Long 0 0,First,#,deer_harvest_2021_fc,DPA,-1,-1;TotalBuck \"TotalBuck\" true true false 4 Long 0 0,First,#,deer_harvest_2021_fc,TotalBuck,-1,-1;TotalAntl \"TotalAntl\" true true false 4 Long 0 0,First,#,deer_harvest_2021_fc,TotalAntl,-1,-1;TotalHarv \"TotalHarv\" true true false 4 Long 0 0,First,#,deer_harvest_2021_fc,TotalHarv,-1,-1;BuckSqMile \"BuckSqMile\" true true false 4 Float 0 0,First,#,deer_harvest_2021_fc,BuckSqMile,-1,-1;AntlSqMile \"AntlSqMile\" true true false 4 Float 0 0,First,#,deer_harvest_2021_fc,AntlSqMile,-1,-1;Shape_Le_1 \"Shape_Le_1\" true true false 8 Double 0 0,First,#,deer_harvest_2021_fc,Shape_Le_1,-1,-1;Shape_Length \"Shape_Length\" false true true 8 Double 0 0,First,#,deer_harvest_2021_fc,Shape_Length,-1,-1;Shape_Area \"Shape_Area\" false true true 8 Double 0 0,First,#,deer_harvest_2021_fc,Shape_Area,-1,-1;TotalHarv_EQUAL_INTERVAL \"TotalHarv_EQUAL_INTERVAL_CLASS\" true true false 4 Long 0 0,First,#,deer_harvest_2021_fc,TotalHarv_EQUAL_INTERVAL,-1,-1;TotalHarv_EQUAL_INTERVAL_RANGE \"TotalHarv_EQUAL_INTERVAL_RANGE\" true true false 255 Text 0 0,First,#,deer_harvest_2021_fc,TotalHarv_EQUAL_INTERVAL_RANGE,0,254;TotalHarv_QUANTILE \"TotalHarv_QUANTILE_CLASS\" true true false 4 Long 0 0,First,#,deer_harvest_2021_fc,TotalHarv_QUANTILE,-1,-1;TotalHarv_QUANTILE_RANGE \"TotalHarv_QUANTILE_RANGE\" true true false 255 Text 0 0,First,#,deer_harvest_2021_fc,TotalHarv_QUANTILE_RANGE,0,254;TotalHarv_QUANTILE_1 \"TotalHarv_QUANTILE_CLASS_1\" true true false 4 Long 0 0,First,#,deer_harvest_2021_fc,TotalHarv_QUANTILE_1,-1,-1;TotalHarv_QUANTILE_RANGE_1 \"TotalHarv_QUANTILE_RANGE_1\" true true false 255 Text 0 0,First,#,deer_harvest_2021_fc,TotalHarv_QUANTILE_RANGE_1,0,254;DPA_1 \"DPA\" true true false 4 Long 0 0,First,#,deer_harvest_2022_fc,DPA,-1,-1;TOTPASQMI_1 \"TOTPASQMI\" true true false 8 Double 0 0,First,#,deer_harvest_2022_fc,TOTPASQMI,-1,-1;SQMILEWA_12 \"SQMILEWA_1\" true true false 8 Double 0 0,First,#,deer_harvest_2022_fc,SQMILEWA_1,-1,-1;SQMILENONW_1 \"SQMILENONW\" true true false 8 Double 0 0,First,#,deer_harvest_2022_fc,SQMILENONW,-1,-1;TotalBuck_1 \"TotalBuck\" true true false 4 Long 0 0,First,#,deer_harvest_2022_fc,TotalBuck,-1,-1;TotalAntl_1 \"TotalAntl\" true true false 4 Long 0 0,First,#,deer_harvest_2022_fc,TotalAntl,-1,-1;TotalHarv_1 \"TotalHarv\" true true false 4 Long 0 0,First,#,deer_harvest_2022_fc,TotalHarv,-1,-1;BuckSqMile_1 \"BuckSqMile\" true true false 4 Float 0 0,First,#,deer_harvest_2022_fc,BuckSqMile,-1,-1;AntlSqMile_1 \"AntlSqMile\" true true false 4 Float 0 0,First,#,deer_harvest_2022_fc,AntlSqMile,-1,-1;MANAGEMENT_1 \"MANAGEMENT\" true true false 50 Text 0 0,First,#,deer_harvest_2022_fc,MANAGEMENT,0,49;Designatio_1 \"Designatio\" true true false 100 Text 0 0,First,#,deer_harvest_2022_fc,Designatio,0,99;Archery_1 \"Archery\" true true false 50 Text 0 0,First,#,deer_harvest_2022_fc,Archery,0,49;FirearmA_1 \"FirearmA\" true true false 50 Text 0 0,First,#,deer_harvest_2022_fc,FirearmA,0,49;FirearmB_1 \"FirearmB\" true true false 50 Text 0 0,First,#,deer_harvest_2022_fc,FirearmB,0,49;Youth_1 \"Youth\" true true false 50 Text 0 0,First,#,deer_harvest_2022_fc,Youth,0,49;EarlyAntle_1 \"EarlyAntle\" true true false 50 Text 0 0,First,#,deer_harvest_2022_fc,EarlyAntle,0,49;Muzzleload_1 \"Muzzleload\" true true false 50 Text 0 0,First,#,deer_harvest_2022_fc,Muzzleload,0,49;FirearmTyp_1 \"FirearmTyp\" true true false 100 Text 0 0,First,#,deer_harvest_2022_fc,FirearmTyp,0,99;PDFReport_1 \"PDFReport\" true true false 254 Text 0 0,First,#,deer_harvest_2022_fc,PDFReport,0,253;MapTitle_1 \"MapTitle\" true true false 100 Text 0 0,First,#,deer_harvest_2022_fc,MapTitle,0,99;SpecialReg_1 \"SpecialReg\" true true false 150 Text 0 0,First,#,deer_harvest_2022_fc,SpecialReg,0,149;DiseMgmt_1 \"DiseMgmt\" true true false 150 Text 0 0,First,#,deer_harvest_2022_fc,DiseMgmt,0,149;Area_1 \"Area\" true true false 8 Double 0 0,First,#,deer_harvest_2022_fc,Area,-1,-1;Perimeter_1 \"Perimeter\" true true false 8 Double 0 0,First,#,deer_harvest_2022_fc,Perimeter,-1,-1;Acres_1 \"Acres\" true true false 8 Double 0 0,First,#,deer_harvest_2022_fc,Acres,-1,-1;PDFMap_1 \"PDFMap\" true true false 30 Text 0 0,First,#,deer_harvest_2022_fc,PDFMap,0,29;LateSeason_1 \"LateSeason\" true true false 50 Text 0 0,First,#,deer_harvest_2022_fc,LateSeason,0,49;EffPeriod_1 \"EffPeriod\" true true false 50 Text 0 0,First,#,deer_harvest_2022_fc,EffPeriod,0,49;DisePage_1 \"DisePage\" true true false 254 Text 0 0,First,#,deer_harvest_2022_fc,DisePage,0,253;DiseSamp_1 \"DiseSamp\" true true false 150 Text 0 0,First,#,deer_harvest_2022_fc,DiseSamp,0,149;CarcMovmt_1 \"CarcMovmt\" true true false 150 Text 0 0,First,#,deer_harvest_2022_fc,CarcMovmt,0,149;CarcPage_1 \"CarcPage\" true true false 254 Text 0 0,First,#,deer_harvest_2022_fc,CarcPage,0,253;DesgPage_1 \"DesgPage\" true true false 254 Text 0 0,First,#,deer_harvest_2022_fc,DesgPage,0,253;Shape_Leng_1 \"Shape_Leng\" true true false 8 Double 0 0,First,#,deer_harvest_2022_fc,Shape_Leng,-1,-1;Shape_Length_1 \"Shape_Length\" false true true 8 Double 0 0,First,#,deer_harvest_2022_fc,Shape_Length,-1,-1;Shape_Area_1 \"Shape_Area\" false true true 8 Double 0 0,First,#,deer_harvest_2022_fc,Shape_Area,-1,-1;TotalHarv_QUANTILE_12 \"TotalHarv_QUANTILE_CLASS\" true true false 4 Long 0 0,First,#,deer_harvest_2022_fc,TotalHarv_QUANTILE,-1,-1;TotalHarv_QUANTILE_RANGE_12 \"TotalHarv_QUANTILE_RANGE\" true true false 255 Text 0 0,First,#,deer_harvest_2022_fc,TotalHarv_QUANTILE_RANGE,0,254',\n",
    "    match_option=\"LARGEST_OVERLAP\",\n",
    "    search_radius=None,\n",
    "    distance_field_name=\"\",\n",
    "    match_fields=None\n",
    ")"
   ]
  },
  {
   "cell_type": "code",
   "execution_count": 2,
   "metadata": {},
   "outputs": [
    {
     "data": {
      "text/html": [
       "<div class='gpresult'><h2>Messages</h2><div id='messages' data-messages='[\"Start Time: Tuesday, November 12, 2024 5:17:04 PM\",\"Succeeded at Tuesday, November 12, 2024 5:17:06 PM (Elapsed Time: 1.34 seconds)\"]' data-show='true'><div id = 'default' /></div></div>"
      ],
      "text/plain": [
       "<Result 'C:\\\\Users\\\\rockx057\\\\Documents\\\\ArcGIS\\\\Projects\\\\5571 final project\\\\5571 final project.gdb\\\\deer_harvest_all__SpatialJoin'>"
      ]
     },
     "execution_count": 2,
     "metadata": {},
     "output_type": "execute_result"
    }
   ],
   "source": [
    "arcpy.analysis.SpatialJoin(\n",
    "    target_features=\"deer_harvest_21_22_join\",\n",
    "    join_features=\"deer_harvest_2023_fc\",\n",
    "    out_feature_class=r\"C:\\Users\\rockx057\\Documents\\ArcGIS\\Projects\\5571 final project\\5571 final project.gdb\\deer_harvest_all_join\",\n",
    "    join_operation=\"JOIN_ONE_TO_ONE\",\n",
    "    join_type=\"KEEP_ALL\",\n",
    "    field_mapping='Join_Count \"Join_Count\" true true false 4 Long 0 0,First,#,deer_harvest_21_22_join,Join_Count,-1,-1;TARGET_FID \"TARGET_FID\" true true false 4 Long 0 0,First,#,deer_harvest_21_22_join,TARGET_FID,-1,-1;TOTPASQMI \"TOTPASQMI\" true true false 8 Double 0 0,First,#,deer_harvest_21_22_join,TOTPASQMI,-1,-1;SQMILEWA_1 \"SQMILEWA_1\" true true false 8 Double 0 0,First,#,deer_harvest_21_22_join,SQMILEWA_1,-1,-1;SQMILENONW \"SQMILENONW\" true true false 8 Double 0 0,First,#,deer_harvest_21_22_join,SQMILENONW,-1,-1;MANAGEMENT \"MANAGEMENT\" true true false 50 Text 0 0,First,#,deer_harvest_21_22_join,MANAGEMENT,0,49;Designatio \"Designatio\" true true false 100 Text 0 0,First,#,deer_harvest_21_22_join,Designatio,0,99;Archery \"Archery\" true true false 50 Text 0 0,First,#,deer_harvest_21_22_join,Archery,0,49;FirearmA \"FirearmA\" true true false 50 Text 0 0,First,#,deer_harvest_21_22_join,FirearmA,0,49;FirearmB \"FirearmB\" true true false 50 Text 0 0,First,#,deer_harvest_21_22_join,FirearmB,0,49;Youth \"Youth\" true true false 50 Text 0 0,First,#,deer_harvest_21_22_join,Youth,0,49;EarlyAntle \"EarlyAntle\" true true false 50 Text 0 0,First,#,deer_harvest_21_22_join,EarlyAntle,0,49;Muzzleload \"Muzzleload\" true true false 50 Text 0 0,First,#,deer_harvest_21_22_join,Muzzleload,0,49;FirearmTyp \"FirearmTyp\" true true false 100 Text 0 0,First,#,deer_harvest_21_22_join,FirearmTyp,0,99;PDFReport \"PDFReport\" true true false 254 Text 0 0,First,#,deer_harvest_21_22_join,PDFReport,0,253;MapTitle \"MapTitle\" true true false 100 Text 0 0,First,#,deer_harvest_21_22_join,MapTitle,0,99;SpecialReg \"SpecialReg\" true true false 150 Text 0 0,First,#,deer_harvest_21_22_join,SpecialReg,0,149;DiseMgmt \"DiseMgmt\" true true false 150 Text 0 0,First,#,deer_harvest_21_22_join,DiseMgmt,0,149;Area \"Area\" true true false 8 Double 0 0,First,#,deer_harvest_21_22_join,Area,-1,-1;Perimeter \"Perimeter\" true true false 8 Double 0 0,First,#,deer_harvest_21_22_join,Perimeter,-1,-1;Acres \"Acres\" true true false 8 Double 0 0,First,#,deer_harvest_21_22_join,Acres,-1,-1;Shape_Leng \"Shape_Leng\" true true false 8 Double 0 0,First,#,deer_harvest_21_22_join,Shape_Leng,-1,-1;PDFMap \"PDFMap\" true true false 30 Text 0 0,First,#,deer_harvest_21_22_join,PDFMap,0,29;LateSeason \"LateSeason\" true true false 50 Text 0 0,First,#,deer_harvest_21_22_join,LateSeason,0,49;EffPeriod \"EffPeriod\" true true false 50 Text 0 0,First,#,deer_harvest_21_22_join,EffPeriod,0,49;DisePage \"DisePage\" true true false 254 Text 0 0,First,#,deer_harvest_21_22_join,DisePage,0,253;DiseSamp \"DiseSamp\" true true false 150 Text 0 0,First,#,deer_harvest_21_22_join,DiseSamp,0,149;CarcMovmt \"CarcMovmt\" true true false 150 Text 0 0,First,#,deer_harvest_21_22_join,CarcMovmt,0,149;CarcPage \"CarcPage\" true true false 254 Text 0 0,First,#,deer_harvest_21_22_join,CarcPage,0,253;DesgPage \"DesgPage\" true true false 254 Text 0 0,First,#,deer_harvest_21_22_join,DesgPage,0,253;DPA \"DPA\" true true false 4 Long 0 0,First,#,deer_harvest_21_22_join,DPA,-1,-1;TotalBuck \"TotalBuck\" true true false 4 Long 0 0,First,#,deer_harvest_21_22_join,TotalBuck,-1,-1;TotalAntl \"TotalAntl\" true true false 4 Long 0 0,First,#,deer_harvest_21_22_join,TotalAntl,-1,-1;TotalHarv \"TotalHarv\" true true false 4 Long 0 0,First,#,deer_harvest_21_22_join,TotalHarv,-1,-1;BuckSqMile \"BuckSqMile\" true true false 4 Float 0 0,First,#,deer_harvest_21_22_join,BuckSqMile,-1,-1;AntlSqMile \"AntlSqMile\" true true false 4 Float 0 0,First,#,deer_harvest_21_22_join,AntlSqMile,-1,-1;Shape_Le_1 \"Shape_Le_1\" true true false 8 Double 0 0,First,#,deer_harvest_21_22_join,Shape_Le_1,-1,-1;TotalHarv_EQUAL_INTERVAL \"TotalHarv_EQUAL_INTERVAL_CLASS\" true true false 4 Long 0 0,First,#,deer_harvest_21_22_join,TotalHarv_EQUAL_INTERVAL,-1,-1;TotalHarv_EQUAL_INTERVAL_RANGE \"TotalHarv_EQUAL_INTERVAL_RANGE\" true true false 255 Text 0 0,First,#,deer_harvest_21_22_join,TotalHarv_EQUAL_INTERVAL_RANGE,0,254;TotalHarv_QUANTILE \"TotalHarv_QUANTILE_CLASS\" true true false 4 Long 0 0,First,#,deer_harvest_21_22_join,TotalHarv_QUANTILE,-1,-1;TotalHarv_QUANTILE_RANGE \"TotalHarv_QUANTILE_RANGE\" true true false 255 Text 0 0,First,#,deer_harvest_21_22_join,TotalHarv_QUANTILE_RANGE,0,254;TotalHarv_QUANTILE_1 \"TotalHarv_QUANTILE_CLASS_1\" true true false 4 Long 0 0,First,#,deer_harvest_21_22_join,TotalHarv_QUANTILE_1,-1,-1;TotalHarv_QUANTILE_RANGE_1 \"TotalHarv_QUANTILE_RANGE_1\" true true false 255 Text 0 0,First,#,deer_harvest_21_22_join,TotalHarv_QUANTILE_RANGE_1,0,254;DPA_1 \"DPA\" true true false 4 Long 0 0,First,#,deer_harvest_21_22_join,DPA_1,-1,-1;TOTPASQMI_1 \"TOTPASQMI\" true true false 8 Double 0 0,First,#,deer_harvest_21_22_join,TOTPASQMI_1,-1,-1;SQMILEWA_12 \"SQMILEWA_1\" true true false 8 Double 0 0,First,#,deer_harvest_21_22_join,SQMILEWA_12,-1,-1;SQMILENONW_1 \"SQMILENONW\" true true false 8 Double 0 0,First,#,deer_harvest_21_22_join,SQMILENONW_1,-1,-1;TotalBuck_1 \"TotalBuck\" true true false 4 Long 0 0,First,#,deer_harvest_21_22_join,TotalBuck_1,-1,-1;TotalAntl_1 \"TotalAntl\" true true false 4 Long 0 0,First,#,deer_harvest_21_22_join,TotalAntl_1,-1,-1;TotalHarv_1 \"TotalHarv\" true true false 4 Long 0 0,First,#,deer_harvest_21_22_join,TotalHarv_1,-1,-1;BuckSqMile_1 \"BuckSqMile\" true true false 4 Float 0 0,First,#,deer_harvest_21_22_join,BuckSqMile_1,-1,-1;AntlSqMile_1 \"AntlSqMile\" true true false 4 Float 0 0,First,#,deer_harvest_21_22_join,AntlSqMile_1,-1,-1;MANAGEMENT_1 \"MANAGEMENT\" true true false 50 Text 0 0,First,#,deer_harvest_21_22_join,MANAGEMENT_1,0,49;Designatio_1 \"Designatio\" true true false 100 Text 0 0,First,#,deer_harvest_21_22_join,Designatio_1,0,99;Archery_1 \"Archery\" true true false 50 Text 0 0,First,#,deer_harvest_21_22_join,Archery_1,0,49;FirearmA_1 \"FirearmA\" true true false 50 Text 0 0,First,#,deer_harvest_21_22_join,FirearmA_1,0,49;FirearmB_1 \"FirearmB\" true true false 50 Text 0 0,First,#,deer_harvest_21_22_join,FirearmB_1,0,49;Youth_1 \"Youth\" true true false 50 Text 0 0,First,#,deer_harvest_21_22_join,Youth_1,0,49;EarlyAntle_1 \"EarlyAntle\" true true false 50 Text 0 0,First,#,deer_harvest_21_22_join,EarlyAntle_1,0,49;Muzzleload_1 \"Muzzleload\" true true false 50 Text 0 0,First,#,deer_harvest_21_22_join,Muzzleload_1,0,49;FirearmTyp_1 \"FirearmTyp\" true true false 100 Text 0 0,First,#,deer_harvest_21_22_join,FirearmTyp_1,0,99;PDFReport_1 \"PDFReport\" true true false 254 Text 0 0,First,#,deer_harvest_21_22_join,PDFReport_1,0,253;MapTitle_1 \"MapTitle\" true true false 100 Text 0 0,First,#,deer_harvest_21_22_join,MapTitle_1,0,99;SpecialReg_1 \"SpecialReg\" true true false 150 Text 0 0,First,#,deer_harvest_21_22_join,SpecialReg_1,0,149;DiseMgmt_1 \"DiseMgmt\" true true false 150 Text 0 0,First,#,deer_harvest_21_22_join,DiseMgmt_1,0,149;Area_1 \"Area\" true true false 8 Double 0 0,First,#,deer_harvest_21_22_join,Area_1,-1,-1;Perimeter_1 \"Perimeter\" true true false 8 Double 0 0,First,#,deer_harvest_21_22_join,Perimeter_1,-1,-1;Acres_1 \"Acres\" true true false 8 Double 0 0,First,#,deer_harvest_21_22_join,Acres_1,-1,-1;PDFMap_1 \"PDFMap\" true true false 30 Text 0 0,First,#,deer_harvest_21_22_join,PDFMap_1,0,29;LateSeason_1 \"LateSeason\" true true false 50 Text 0 0,First,#,deer_harvest_21_22_join,LateSeason_1,0,49;EffPeriod_1 \"EffPeriod\" true true false 50 Text 0 0,First,#,deer_harvest_21_22_join,EffPeriod_1,0,49;DisePage_1 \"DisePage\" true true false 254 Text 0 0,First,#,deer_harvest_21_22_join,DisePage_1,0,253;DiseSamp_1 \"DiseSamp\" true true false 150 Text 0 0,First,#,deer_harvest_21_22_join,DiseSamp_1,0,149;CarcMovmt_1 \"CarcMovmt\" true true false 150 Text 0 0,First,#,deer_harvest_21_22_join,CarcMovmt_1,0,149;CarcPage_1 \"CarcPage\" true true false 254 Text 0 0,First,#,deer_harvest_21_22_join,CarcPage_1,0,253;DesgPage_1 \"DesgPage\" true true false 254 Text 0 0,First,#,deer_harvest_21_22_join,DesgPage_1,0,253;Shape_Leng_1 \"Shape_Leng\" true true false 8 Double 0 0,First,#,deer_harvest_21_22_join,Shape_Leng_1,-1,-1;Shape_Length_1 \"Shape_Length\" true true false 8 Double 0 0,First,#,deer_harvest_21_22_join,Shape_Length_1,-1,-1;Shape_Area_1 \"Shape_Area\" true true false 8 Double 0 0,First,#,deer_harvest_21_22_join,Shape_Area_1,-1,-1;TotalHarv_QUANTILE_12 \"TotalHarv_QUANTILE_CLASS\" true true false 4 Long 0 0,First,#,deer_harvest_21_22_join,TotalHarv_QUANTILE_12,-1,-1;TotalHarv_QUANTILE_RANGE_12 \"TotalHarv_QUANTILE_RANGE\" true true false 255 Text 0 0,First,#,deer_harvest_21_22_join,TotalHarv_QUANTILE_RANGE_12,0,254;Shape_Length \"Shape_Length\" false true true 8 Double 0 0,First,#,deer_harvest_21_22_join,Shape_Length,-1,-1;Shape_Area \"Shape_Area\" false true true 8 Double 0 0,First,#,deer_harvest_21_22_join,Shape_Area,-1,-1;DPA_12 \"DPA\" true true false 4 Long 0 0,First,#,deer_harvest_2023_fc,DPA,-1,-1;TOTPASQMI_12 \"TOTPASQMI\" true true false 8 Double 0 0,First,#,deer_harvest_2023_fc,TOTPASQMI,-1,-1;SQMILEWA_12_13 \"SQMILEWA_1\" true true false 8 Double 0 0,First,#,deer_harvest_2023_fc,SQMILEWA_1,-1,-1;SQMILENONW_12 \"SQMILENONW\" true true false 8 Double 0 0,First,#,deer_harvest_2023_fc,SQMILENONW,-1,-1;TotalBuck_12 \"TotalBuck\" true true false 4 Long 0 0,First,#,deer_harvest_2023_fc,TotalBuck,-1,-1;TotalAntl_12 \"TotalAntl\" true true false 4 Long 0 0,First,#,deer_harvest_2023_fc,TotalAntl,-1,-1;TotalHarv_12 \"TotalHarv\" true true false 4 Long 0 0,First,#,deer_harvest_2023_fc,TotalHarv,-1,-1;BuckSqMile_12 \"BuckSqMile\" true true false 8 Double 0 0,First,#,deer_harvest_2023_fc,BuckSqMile,-1,-1;AntlSqMile_12 \"AntlSqMile\" true true false 8 Double 0 0,First,#,deer_harvest_2023_fc,AntlSqMile,-1,-1;MANAGEMENT_12 \"MANAGEMENT\" true true false 50 Text 0 0,First,#,deer_harvest_2023_fc,MANAGEMENT,0,49;Designatio_12 \"Designatio\" true true false 100 Text 0 0,First,#,deer_harvest_2023_fc,Designatio,0,99;Archery_12 \"Archery\" true true false 50 Text 0 0,First,#,deer_harvest_2023_fc,Archery,0,49;FirearmA_12 \"FirearmA\" true true false 50 Text 0 0,First,#,deer_harvest_2023_fc,FirearmA,0,49;FirearmB_12 \"FirearmB\" true true false 50 Text 0 0,First,#,deer_harvest_2023_fc,FirearmB,0,49;Youth_12 \"Youth\" true true false 50 Text 0 0,First,#,deer_harvest_2023_fc,Youth,0,49;EarlyAntle_12 \"EarlyAntle\" true true false 50 Text 0 0,First,#,deer_harvest_2023_fc,EarlyAntle,0,49;Muzzleload_12 \"Muzzleload\" true true false 50 Text 0 0,First,#,deer_harvest_2023_fc,Muzzleload,0,49;FirearmTyp_12 \"FirearmTyp\" true true false 100 Text 0 0,First,#,deer_harvest_2023_fc,FirearmTyp,0,99;PDFReport_12 \"PDFReport\" true true false 254 Text 0 0,First,#,deer_harvest_2023_fc,PDFReport,0,253;MapTitle_12 \"MapTitle\" true true false 100 Text 0 0,First,#,deer_harvest_2023_fc,MapTitle,0,99;SpecialReg_12 \"SpecialReg\" true true false 150 Text 0 0,First,#,deer_harvest_2023_fc,SpecialReg,0,149;DiseMgmt_12 \"DiseMgmt\" true true false 150 Text 0 0,First,#,deer_harvest_2023_fc,DiseMgmt,0,149;PDFMap_12 \"PDFMap\" true true false 30 Text 0 0,First,#,deer_harvest_2023_fc,PDFMap,0,29;LateSeason_12 \"LateSeason\" true true false 50 Text 0 0,First,#,deer_harvest_2023_fc,LateSeason,0,49;EffPeriod_12 \"EffPeriod\" true true false 50 Text 0 0,First,#,deer_harvest_2023_fc,EffPeriod,0,49;DisePage_12 \"DisePage\" true true false 254 Text 0 0,First,#,deer_harvest_2023_fc,DisePage,0,253;DiseSamp_12 \"DiseSamp\" true true false 150 Text 0 0,First,#,deer_harvest_2023_fc,DiseSamp,0,149;CarcMovmt_12 \"CarcMovmt\" true true false 150 Text 0 0,First,#,deer_harvest_2023_fc,CarcMovmt,0,149;CarcPage_12 \"CarcPage\" true true false 254 Text 0 0,First,#,deer_harvest_2023_fc,CarcPage,0,253;DesgPage_12 \"DesgPage\" true true false 254 Text 0 0,First,#,deer_harvest_2023_fc,DesgPage,0,253;Area_12 \"Area\" true true false 8 Double 0 0,First,#,deer_harvest_2023_fc,Area,-1,-1;Acres_12 \"Acres\" true true false 8 Double 0 0,First,#,deer_harvest_2023_fc,Acres,-1,-1;Perimeter_12 \"Perimeter\" true true false 8 Double 0 0,First,#,deer_harvest_2023_fc,Perimeter,-1,-1;Shape_Leng_12 \"Shape_Leng\" true true false 8 Double 0 0,First,#,deer_harvest_2023_fc,Shape_Leng,-1,-1;Shape_Le_12 \"Shape_Le_1\" true true false 8 Double 0 0,First,#,deer_harvest_2023_fc,Shape_Le_1,-1,-1;Shape_Length_12 \"Shape_Length\" false true true 8 Double 0 0,First,#,deer_harvest_2023_fc,Shape_Length,-1,-1;Shape_Area_12 \"Shape_Area\" false true true 8 Double 0 0,First,#,deer_harvest_2023_fc,Shape_Area,-1,-1;TotalHarv_QUANTILE_12_13 \"TotalHarv_QUANTILE_CLASS\" true true false 4 Long 0 0,First,#,deer_harvest_2023_fc,TotalHarv_QUANTILE,-1,-1;TotalHarv_QUANTILE_RANGE_12_13 \"TotalHarv_QUANTILE_RANGE\" true true false 255 Text 0 0,First,#,deer_harvest_2023_fc,TotalHarv_QUANTILE_RANGE,0,254',\n",
    "    match_option=\"LARGEST_OVERLAP\",\n",
    "    search_radius=None,\n",
    "    distance_field_name=\"\",\n",
    "    match_fields=None\n",
    ")"
   ]
  },
  {
   "cell_type": "code",
   "execution_count": 13,
   "metadata": {},
   "outputs": [
    {
     "data": {
      "text/plain": [
       "<Response [200]>"
      ]
     },
     "execution_count": 13,
     "metadata": {},
     "output_type": "execute_result"
    }
   ],
   "source": [
    "mngc_url = \"https://resources.gisdata.mn.gov/pub/gdrs/data/pub/us_mn_state_mngeo/loc_pop_centers/shp_loc_pop_centers.zip\"\n",
    "mngc_res = requests.get(mngc_url,allow_redirects=True)\n",
    "mngc_res"
   ]
  },
  {
   "cell_type": "code",
   "execution_count": 17,
   "metadata": {},
   "outputs": [
    {
     "data": {
      "text/plain": [
       "134367"
      ]
     },
     "execution_count": 17,
     "metadata": {},
     "output_type": "execute_result"
    }
   ],
   "source": [
    "open(r\"C:\\Users\\rockx057\\Documents\\ArcGIS\\Projects\\5571 final project\\mngc_res.zip\", 'wb').write(mngc_res.content)"
   ]
  },
  {
   "cell_type": "code",
   "execution_count": 18,
   "metadata": {},
   "outputs": [],
   "source": [
    "with ZipFile(r\"C:\\Users\\rockx057\\Documents\\ArcGIS\\Projects\\5571 final project\\mngc_res.zip\", 'r') as pop_centers2:\n",
    "    pop_centers2.extractall(\n",
    "        path=r\"C:\\Users\\rockx057\\Documents\\ArcGIS\\Projects\\5571 final project\\pop_centers2\"\n",
    "    )\n",
    "     "
   ]
  },
  {
   "cell_type": "code",
   "execution_count": 19,
   "metadata": {},
   "outputs": [
    {
     "data": {
      "text/html": [
       "<div class='gpresult'><h2>Messages</h2><div id='messages' data-messages='[\"Start Time: Tuesday, November 12, 2024 6:04:35 PM\",\"Succeeded at Tuesday, November 12, 2024 6:04:51 PM (Elapsed Time: 15.46 seconds)\"]' data-show='true'><div id = 'default' /></div></div>"
      ],
      "text/plain": [
       "<Result 'C:\\\\Users\\\\rockx057\\\\Documents\\\\ArcGIS\\\\Projects\\\\5571 final project\\\\5571 final project.gdb\\\\deer_harvest_all_join_SummarizeWithin'>"
      ]
     },
     "execution_count": 19,
     "metadata": {},
     "output_type": "execute_result"
    }
   ],
   "source": [
    "arcpy.analysis.SummarizeWithin(\n",
    "    in_polygons=\"deer_harvest_all_join\",\n",
    "    in_sum_features=\"city_and_township_population_centers\",\n",
    "    out_feature_class=r\"C:\\Users\\rockx057\\Documents\\ArcGIS\\Projects\\5571 final project\\5571 final project.gdb\\deer_harvest_all_join_SummarizeWithin\",\n",
    "    keep_all_polygons=\"KEEP_ALL\",\n",
    "    sum_fields=None,\n",
    "    sum_shape=\"ADD_SHAPE_SUM\",\n",
    "    shape_unit=\"SQUAREKILOMETERS\",\n",
    "    group_field=None,\n",
    "    add_min_maj=\"NO_MIN_MAJ\",\n",
    "    add_group_percent=\"NO_PERCENT\",\n",
    "    out_group_table=None\n",
    ")"
   ]
  },
  {
   "cell_type": "code",
   "execution_count": 20,
   "metadata": {},
   "outputs": [
    {
     "data": {
      "text/html": [
       "<div class='gpresult'><h2>Messages</h2><div id='messages' data-messages='[\"Start Time: Tuesday, November 12, 2024 6:05:35 PM\",\"Succeeded at Tuesday, November 12, 2024 6:05:54 PM (Elapsed Time: 19.59 seconds)\"]' data-show='true'><div id = 'default' /></div></div>"
      ],
      "text/plain": [
       "<Result 'C:\\\\Users\\\\rockx057\\\\Documents\\\\ArcGIS\\\\Projects\\\\5571 final project\\\\5571 final project.gdb\\\\all_features'>"
      ]
     },
     "execution_count": 20,
     "metadata": {},
     "output_type": "execute_result"
    }
   ],
   "source": [
    "arcpy.analysis.SummarizeWithin(\n",
    "    in_polygons=\"deer_harvest_all_join_SummarizeWithin\",\n",
    "    in_sum_features=\"eagle_points_lead\",\n",
    "    out_feature_class=r\"C:\\Users\\rockx057\\Documents\\ArcGIS\\Projects\\5571 final project\\5571 final project.gdb\\all_features\",\n",
    "    keep_all_polygons=\"KEEP_ALL\",\n",
    "    sum_fields=None,\n",
    "    sum_shape=\"ADD_SHAPE_SUM\",\n",
    "    shape_unit=\"SQUAREKILOMETERS\",\n",
    "    group_field=None,\n",
    "    add_min_maj=\"NO_MIN_MAJ\",\n",
    "    add_group_percent=\"NO_PERCENT\",\n",
    "    out_group_table=None\n",
    ")"
   ]
  },
  {
   "cell_type": "code",
   "execution_count": 21,
   "metadata": {},
   "outputs": [
    {
     "data": {
      "text/html": [
       "<div class='gpresult'><h2>Messages</h2><div id='messages' data-messages='[\"Start Time: Tuesday, November 12, 2024 6:08:16 PM\",[{\"element\":\"table\",\"data\":[[\"Upper Bound\",\"Reclassed Value\"],[\"\\u003c= 0\",\"1\"],[\"\\u003c= 1\",\"2\"],[\"\\u003c= 2\",\"3\"],[\"\\u003c= 3\",\"4\"],[\"\\u003c= 5\",\"5\"]],\"elementProps\":{\"striped\":\"true\",\"title\":\"Reclassification\",\"0\":{\"align\":\"Left\",\"pad\":\"0px\",\"wrap\":true},\"1\":{\"align\":\"Left\",\"pad\":\"0px\",\"wrap\":true}}}],\"\",\"Succeeded at Tuesday, November 12, 2024 6:08:41 PM (Elapsed Time: 25.22 seconds)\"]' data-show='true'><div id = 'default' /></div></div>"
      ],
      "text/plain": [
       "<Result 'all_features'>"
      ]
     },
     "execution_count": 21,
     "metadata": {},
     "output_type": "execute_result"
    }
   ],
   "source": [
    "arcpy.management.ReclassifyField(\n",
    "    in_table=\"all_features\",\n",
    "    field=\"Point_Count\",\n",
    "    method=\"QUANTILE\",\n",
    "    classes=5,\n",
    "    interval=None,\n",
    "    standard_deviations=\"ONE\",\n",
    "    reclass_table=None,\n",
    "    reverse_values=\"ASC\",\n",
    "    output_field_name=\"Point_Count_QUANTILE_CITIES\"\n",
    ")"
   ]
  },
  {
   "cell_type": "code",
   "execution_count": 23,
   "metadata": {},
   "outputs": [
    {
     "data": {
      "text/html": [
       "<div class='gpresult'><h2>Messages</h2><div id='messages' data-messages='[\"Start Time: Tuesday, November 12, 2024 6:13:04 PM\",[{\"element\":\"table\",\"data\":[[\"Upper Bound\",\"Reclassed Value\"],[\"\\u003c= 0\",\"1\"],[\"\\u003c= 1\",\"2\"],[\"\\u003c= 2\",\"3\"],[\"\\u003c= 5\",\"4\"],[\"\\u003c= 10\",\"5\"]],\"elementProps\":{\"striped\":\"true\",\"title\":\"Reclassification\",\"0\":{\"align\":\"Left\",\"pad\":\"0px\",\"wrap\":true},\"1\":{\"align\":\"Left\",\"pad\":\"0px\",\"wrap\":true}}}],\"\",\"Succeeded at Tuesday, November 12, 2024 6:13:25 PM (Elapsed Time: 20.49 seconds)\"]' data-show='true'><div id = 'default' /></div></div>"
      ],
      "text/plain": [
       "<Result 'all_features'>"
      ]
     },
     "execution_count": 23,
     "metadata": {},
     "output_type": "execute_result"
    }
   ],
   "source": [
    "arcpy.management.ReclassifyField(\n",
    "    in_table=\"all_features\",\n",
    "    field=\"Point_Count_1\",\n",
    "    method=\"QUANTILE\",\n",
    "    classes=5,\n",
    "    interval=None,\n",
    "    standard_deviations=\"ONE\",\n",
    "    reclass_table=None,\n",
    "    reverse_values=\"ASC\",\n",
    "    output_field_name=\"Point_Count_1_QUANTILE_EAGLES\"\n",
    ")"
   ]
  },
  {
   "cell_type": "code",
   "execution_count": 1,
   "metadata": {},
   "outputs": [
    {
     "data": {
      "text/html": [
       "<div class='gpresult'><h2>Messages</h2><div id='messages' data-messages='[\"Start Time: Tuesday, November 19, 2024 3:48:22 PM\",\"Succeeded at Tuesday, November 19, 2024 3:48:37 PM (Elapsed Time: 14.85 seconds)\"]' data-show='true'><div id = 'default' /></div></div>"
      ],
      "text/plain": [
       "<Result 'C:\\\\Users\\\\rockx057\\\\Documents\\\\ArcGIS\\\\Projects\\\\5571 final project\\\\5571 final project.gdb\\\\deer_harvest_all_join_SummarizeWithin_all_eagles'>"
      ]
     },
     "execution_count": 1,
     "metadata": {},
     "output_type": "execute_result"
    }
   ],
   "source": [
    "arcpy.analysis.SummarizeWithin(\n",
    "    in_polygons=\"deer_harvest_all_join_SummarizeWithin\",\n",
    "    in_sum_features=\"eagle_points\",\n",
    "    out_feature_class=r\"C:\\Users\\rockx057\\Documents\\ArcGIS\\Projects\\5571 final project\\5571 final project.gdb\\deer_harvest_all_join_SummarizeWithin_all_eagles\",\n",
    "    keep_all_polygons=\"KEEP_ALL\",\n",
    "    sum_fields=None,\n",
    "    sum_shape=\"ADD_SHAPE_SUM\",\n",
    "    shape_unit=\"SQUAREKILOMETERS\",\n",
    "    group_field=None,\n",
    "    add_min_maj=\"NO_MIN_MAJ\",\n",
    "    add_group_percent=\"NO_PERCENT\",\n",
    "    out_group_table=None\n",
    ")"
   ]
  },
  {
   "cell_type": "code",
   "execution_count": 3,
   "metadata": {},
   "outputs": [
    {
     "data": {
      "text/html": [
       "<div class='gpresult'><h2>Messages</h2><div id='messages' data-messages='[\"Start Time: Tuesday, December 3, 2024 5:01:11 PM\",[{\"element\":\"table\",\"data\":[[\"Upper Bound\",\"Reclassed Value\"],[\"\\u003c= 0\",\"1\"],[\"\\u003c= 1\",\"2\"],[\"\\u003c= 2\",\"3\"],[\"\\u003c= 5\",\"4\"],[\"\\u003c= 10\",\"5\"]],\"elementProps\":{\"striped\":\"true\",\"title\":\"Reclassification\",\"0\":{\"align\":\"Left\",\"pad\":\"0px\",\"wrap\":true},\"1\":{\"align\":\"Left\",\"pad\":\"0px\",\"wrap\":true}}}],\"\",\"Succeeded at Tuesday, December 3, 2024 5:01:34 PM (Elapsed Time: 22.35 seconds)\"]' data-show='true'><div id = 'default' /></div></div>"
      ],
      "text/plain": [
       "<Result 'all_features_lead_only'>"
      ]
     },
     "execution_count": 3,
     "metadata": {},
     "output_type": "execute_result"
    }
   ],
   "source": [
    "arcpy.management.ReclassifyField(\n",
    "    in_table=\"all_features_lead_only\",\n",
    "    field=\"Point_Count_1\",\n",
    "    method=\"QUANTILE\",\n",
    "    classes=5,\n",
    "    interval=None,\n",
    "    standard_deviations=\"ONE\",\n",
    "    reclass_table=None,\n",
    "    reverse_values=\"ASC\",\n",
    "    output_field_name=\"reclass_lead_only_all\"\n",
    ")"
   ]
  },
  {
   "cell_type": "code",
   "execution_count": 4,
   "metadata": {},
   "outputs": [
    {
     "data": {
      "text/html": [
       "<div class='gpresult'><h2>Messages</h2><div id='messages' data-messages='[\"Start Time: Tuesday, December 3, 2024 5:01:43 PM\",[{\"element\":\"table\",\"data\":[[\"Upper Bound\",\"Reclassed Value\"],[\"\\u003c= 0\",\"1\"],[\"\\u003c= 1\",\"2\"],[\"\\u003c= 3\",\"3\"],[\"\\u003c= 6\",\"4\"],[\"\\u003c= 119\",\"5\"]],\"elementProps\":{\"striped\":\"true\",\"title\":\"Reclassification\",\"0\":{\"align\":\"Left\",\"pad\":\"0px\",\"wrap\":true},\"1\":{\"align\":\"Left\",\"pad\":\"0px\",\"wrap\":true}}}],\"\",\"Succeeded at Tuesday, December 3, 2024 5:01:56 PM (Elapsed Time: 12.88 seconds)\"]' data-show='true'><div id = 'default' /></div></div>"
      ],
      "text/plain": [
       "<Result 'all_features_all_eagles'>"
      ]
     },
     "execution_count": 4,
     "metadata": {},
     "output_type": "execute_result"
    }
   ],
   "source": [
    "arcpy.management.ReclassifyField(\n",
    "    in_table=\"all_features_all_eagles\",\n",
    "    field=\"Point_Count_1\",\n",
    "    method=\"QUANTILE\",\n",
    "    classes=5,\n",
    "    interval=None,\n",
    "    standard_deviations=\"ONE\",\n",
    "    reclass_table=None,\n",
    "    reverse_values=\"ASC\",\n",
    "    output_field_name=\"reclass_all_eagles_all\"\n",
    ")"
   ]
  },
  {
   "cell_type": "code",
   "execution_count": 5,
   "metadata": {},
   "outputs": [
    {
     "data": {
      "text/html": [
       "<div class='gpresult'><h2>Messages</h2><div id='messages' data-messages='[\"Start Time: Tuesday, December 3, 2024 5:09:37 PM\",\"Succeeded at Tuesday, December 3, 2024 5:09:55 PM (Elapsed Time: 18.00 seconds)\"]' data-show='true'><div id = 'default' /></div></div>"
      ],
      "text/plain": [
       "<Result 'C:\\\\Users\\\\rockx057\\\\Documents\\\\ArcGIS\\\\Projects\\\\5571 final project\\\\5571 final project.gdb\\\\all_features_lead_only_pop_centers'>"
      ]
     },
     "execution_count": 5,
     "metadata": {},
     "output_type": "execute_result"
    }
   ],
   "source": [
    "arcpy.analysis.SummarizeWithin(\n",
    "    in_polygons=\"all_features_lead_only\",\n",
    "    in_sum_features=\"city_and_township_population_centers\",\n",
    "    out_feature_class=r\"C:\\Users\\rockx057\\Documents\\ArcGIS\\Projects\\5571 final project\\5571 final project.gdb\\all_features_lead_only_pop_centers\",\n",
    "    keep_all_polygons=\"KEEP_ALL\",\n",
    "    sum_fields=None,\n",
    "    sum_shape=\"ADD_SHAPE_SUM\",\n",
    "    shape_unit=\"SQUAREKILOMETERS\",\n",
    "    group_field=None,\n",
    "    add_min_maj=\"NO_MIN_MAJ\",\n",
    "    add_group_percent=\"NO_PERCENT\",\n",
    "    out_group_table=None\n",
    ")"
   ]
  },
  {
   "cell_type": "code",
   "execution_count": 6,
   "metadata": {},
   "outputs": [
    {
     "data": {
      "text/html": [
       "<div class='gpresult'><h2>Messages</h2><div id='messages' data-messages='[\"Start Time: Tuesday, December 3, 2024 5:10:00 PM\",\"Succeeded at Tuesday, December 3, 2024 5:10:42 PM (Elapsed Time: 41.91 seconds)\"]' data-show='true'><div id = 'default' /></div></div>"
      ],
      "text/plain": [
       "<Result 'C:\\\\Users\\\\rockx057\\\\Documents\\\\ArcGIS\\\\Projects\\\\5571 final project\\\\5571 final project.gdb\\\\all_features_all_eagles_pop_centers'>"
      ]
     },
     "execution_count": 6,
     "metadata": {},
     "output_type": "execute_result"
    }
   ],
   "source": [
    "arcpy.analysis.SummarizeWithin(\n",
    "    in_polygons=\"all_features_all_eagles\",\n",
    "    in_sum_features=\"city_and_township_population_centers\",\n",
    "    out_feature_class=r\"C:\\Users\\rockx057\\Documents\\ArcGIS\\Projects\\5571 final project\\5571 final project.gdb\\all_features_all_eagles_pop_centers\",\n",
    "    keep_all_polygons=\"KEEP_ALL\",\n",
    "    sum_fields=None,\n",
    "    sum_shape=\"ADD_SHAPE_SUM\",\n",
    "    shape_unit=\"SQUAREKILOMETERS\",\n",
    "    group_field=None,\n",
    "    add_min_maj=\"NO_MIN_MAJ\",\n",
    "    add_group_percent=\"NO_PERCENT\",\n",
    "    out_group_table=None\n",
    ")"
   ]
  },
  {
   "cell_type": "code",
   "execution_count": 7,
   "metadata": {},
   "outputs": [
    {
     "data": {
      "text/html": [
       "<div class='gpresult'><h2>Messages</h2><div id='messages' data-messages='[\"Start Time: Tuesday, December 3, 2024 5:13:22 PM\",\"WARNING 000642: Problems reading 64 of 130 total records.\",\"WARNING 000848: Features with bad records (only includes first 30): OBJECTID = 1, 2, 5, 6, 7, 8, 9, 10, 11, 13, 14, 15, 17, 18, 19, 22, 23, 24, 25, 26, 27, 28, 30, 34, 35, 36, 37, 38, 40, 42.\",\"WARNING 110366: It is not possible to get the number of categories requested.\",[{\"element\":\"table\",\"data\":[[\"Upper Bound\",\"Reclassed Value\"],[\"\\u003c= 1\",\"1\"],[\"\\u003c= 2\",\"2\"],[\"\\u003c= 3\",\"3\"],[\"\\u003c= 5\",\"4\"]],\"elementProps\":{\"striped\":\"true\",\"title\":\"Reclassification\",\"0\":{\"align\":\"Left\",\"pad\":\"0px\",\"wrap\":true},\"1\":{\"align\":\"Left\",\"pad\":\"0px\",\"wrap\":true}}}],\"\",\"Succeeded at Tuesday, December 3, 2024 5:13:39 PM (Elapsed Time: 16.11 seconds)\"]' data-show='true'><div id = 'default' /></div></div>"
      ],
      "text/plain": [
       "<Result 'all_features_lead_only_pop_centers'>"
      ]
     },
     "execution_count": 7,
     "metadata": {},
     "output_type": "execute_result"
    }
   ],
   "source": [
    "arcpy.management.ReclassifyField(\n",
    "    in_table=\"all_features_lead_only_pop_centers\",\n",
    "    field=\"Point_Count_12\",\n",
    "    method=\"QUANTILE\",\n",
    "    classes=5,\n",
    "    interval=None,\n",
    "    standard_deviations=\"ONE\",\n",
    "    reclass_table=None,\n",
    "    reverse_values=\"ASC\",\n",
    "    output_field_name=\"pop_center_point_quantile\"\n",
    ")"
   ]
  },
  {
   "cell_type": "code",
   "execution_count": 8,
   "metadata": {},
   "outputs": [
    {
     "data": {
      "text/html": [
       "<div class='gpresult'><h2>Messages</h2><div id='messages' data-messages='[\"Start Time: Tuesday, December 3, 2024 5:13:47 PM\",\"WARNING 000642: Problems reading 64 of 130 total records.\",\"WARNING 000848: Features with bad records (only includes first 30): OBJECTID = 1, 2, 5, 6, 7, 8, 9, 10, 11, 13, 14, 15, 17, 18, 19, 22, 23, 24, 25, 26, 27, 28, 30, 34, 35, 36, 37, 38, 40, 42.\",\"WARNING 110366: It is not possible to get the number of categories requested.\",[{\"element\":\"table\",\"data\":[[\"Upper Bound\",\"Reclassed Value\"],[\"\\u003c= 1\",\"1\"],[\"\\u003c= 2\",\"2\"],[\"\\u003c= 3\",\"3\"],[\"\\u003c= 5\",\"4\"]],\"elementProps\":{\"striped\":\"true\",\"title\":\"Reclassification\",\"0\":{\"align\":\"Left\",\"pad\":\"0px\",\"wrap\":true},\"1\":{\"align\":\"Left\",\"pad\":\"0px\",\"wrap\":true}}}],\"\",\"Succeeded at Tuesday, December 3, 2024 5:14:10 PM (Elapsed Time: 22.24 seconds)\"]' data-show='true'><div id = 'default' /></div></div>"
      ],
      "text/plain": [
       "<Result 'all_features_all_eagles_pop_centers'>"
      ]
     },
     "execution_count": 8,
     "metadata": {},
     "output_type": "execute_result"
    }
   ],
   "source": [
    "arcpy.management.ReclassifyField(\n",
    "    in_table=\"all_features_all_eagles_pop_centers\",\n",
    "    field=\"Point_Count_12\",\n",
    "    method=\"QUANTILE\",\n",
    "    classes=5,\n",
    "    interval=None,\n",
    "    standard_deviations=\"ONE\",\n",
    "    reclass_table=None,\n",
    "    reverse_values=\"ASC\",\n",
    "    output_field_name=\"pop_center_point_quantile\"\n",
    ")"
   ]
  },
  {
   "cell_type": "code",
   "execution_count": 11,
   "metadata": {},
   "outputs": [
    {
     "data": {
      "text/html": [
       "<div class='gpresult'><h2>Messages</h2><div id='messages' data-messages='[\"Start Time: Tuesday, December 3, 2024 5:24:36 PM\",\"Succeeded at Tuesday, December 3, 2024 5:24:37 PM (Elapsed Time: 0.67 seconds)\"]' data-show='true'><div id = 'default' /></div></div>"
      ],
      "text/plain": [
       "<Result 'all_features_all_eagles_pop_centers'>"
      ]
     },
     "execution_count": 11,
     "metadata": {},
     "output_type": "execute_result"
    }
   ],
   "source": [
    "arcpy.management.CalculateField(\n",
    "    in_table=\"all_features_all_eagles_pop_centers\",\n",
    "    field=\"Equal_weights\",\n",
    "    expression=\"(!TotalHarv_QUANTILE_12!*.34) + (!reclass_all_eagles_all!*.33) + (!pop_center_point_quantile!*.33)\",\n",
    "    expression_type=\"PYTHON3\",\n",
    "    code_block=\"\",\n",
    "    field_type=\"LONG\",\n",
    "    enforce_domains=\"NO_ENFORCE_DOMAINS\"\n",
    ")"
   ]
  },
  {
   "cell_type": "code",
   "execution_count": 12,
   "metadata": {},
   "outputs": [
    {
     "data": {
      "text/html": [
       "<div class='gpresult'><h2>Messages</h2><div id='messages' data-messages='[\"Start Time: Tuesday, December 3, 2024 5:27:51 PM\",\"WARNING 000304: Renamed field Deer weighted to Deer_weighted\",\"Adding Deer_weighted to all_features_all_eagles_pop_centers...\",\"Succeeded at Tuesday, December 3, 2024 5:27:52 PM (Elapsed Time: 1.04 seconds)\"]' data-show='true'><div id = 'default' /></div></div>"
      ],
      "text/plain": [
       "<Result 'all_features_all_eagles_pop_centers'>"
      ]
     },
     "execution_count": 12,
     "metadata": {},
     "output_type": "execute_result"
    }
   ],
   "source": [
    "arcpy.management.CalculateField(\n",
    "    in_table=\"all_features_all_eagles_pop_centers\",\n",
    "    field=\"Deer weighted\",\n",
    "    expression=\"(!TotalHarv_QUANTILE_12!*.70) + (!reclass_all_eagles_all!*.15) + (!pop_center_point_quantile!*.15)\",\n",
    "    expression_type=\"PYTHON3\",\n",
    "    code_block=\"\",\n",
    "    field_type=\"LONG\",\n",
    "    enforce_domains=\"NO_ENFORCE_DOMAINS\"\n",
    ")"
   ]
  },
  {
   "cell_type": "code",
   "execution_count": 13,
   "metadata": {},
   "outputs": [
    {
     "data": {
      "text/html": [
       "<div class='gpresult'><h2>Messages</h2><div id='messages' data-messages='[\"Start Time: Tuesday, December 3, 2024 5:27:53 PM\",\"WARNING 000304: Renamed field eagle weighted to eagle_weighted\",\"Adding eagle_weighted to all_features_all_eagles_pop_centers...\",\"Succeeded at Tuesday, December 3, 2024 5:27:57 PM (Elapsed Time: 4.10 seconds)\"]' data-show='true'><div id = 'default' /></div></div>"
      ],
      "text/plain": [
       "<Result 'all_features_all_eagles_pop_centers'>"
      ]
     },
     "execution_count": 13,
     "metadata": {},
     "output_type": "execute_result"
    }
   ],
   "source": [
    "arcpy.management.CalculateField(\n",
    "    in_table=\"all_features_all_eagles_pop_centers\",\n",
    "    field=\"eagle weighted\",\n",
    "    expression=\"(!TotalHarv_QUANTILE_12!*.15) + (!reclass_all_eagles_all!*.70) + (!pop_center_point_quantile!*.15)\",\n",
    "    expression_type=\"PYTHON3\",\n",
    "    code_block=\"\",\n",
    "    field_type=\"LONG\",\n",
    "    enforce_domains=\"NO_ENFORCE_DOMAINS\"\n",
    ")"
   ]
  },
  {
   "cell_type": "code",
   "execution_count": 20,
   "metadata": {},
   "outputs": [
    {
     "data": {
      "text/html": [
       "<div class='gpresult'><h2>Messages</h2><div id='messages' data-messages='[\"Start Time: Tuesday, December 3, 2024 5:41:34 PM\",\"Adding pop_weighted to all_features_all_eagles_pop_centers...\",\"Succeeded at Tuesday, December 3, 2024 5:41:35 PM (Elapsed Time: 1.05 seconds)\"]' data-show='true'><div id = 'default' /></div></div>"
      ],
      "text/plain": [
       "<Result 'all_features_all_eagles_pop_centers'>"
      ]
     },
     "execution_count": 20,
     "metadata": {},
     "output_type": "execute_result"
    }
   ],
   "source": [
    "arcpy.management.CalculateField(\n",
    "    in_table=\"all_features_all_eagles_pop_centers\",\n",
    "    field=\"pop_weighted\",\n",
    "    expression=\"(!TotalHarv_QUANTILE_12!*.15) + (!reclass_all_eagles_all!*.15) + (!pop_center_point_quantile!*.70)\",\n",
    "    expression_type=\"PYTHON3\",\n",
    "    code_block=\"\",\n",
    "    field_type=\"LONG\",\n",
    "    enforce_domains=\"NO_ENFORCE_DOMAINS\"\n",
    ")"
   ]
  },
  {
   "cell_type": "code",
   "execution_count": 16,
   "metadata": {},
   "outputs": [
    {
     "data": {
      "text/html": [
       "<div class='gpresult'><h2>Messages</h2><div id='messages' data-messages='[\"Start Time: Tuesday, December 3, 2024 5:38:41 PM\",\"Succeeded at Tuesday, December 3, 2024 5:38:42 PM (Elapsed Time: 0.59 seconds)\"]' data-show='true'><div id = 'default' /></div></div>"
      ],
      "text/plain": [
       "<Result 'all_features_lead_only_pop_centers'>"
      ]
     },
     "execution_count": 16,
     "metadata": {},
     "output_type": "execute_result"
    }
   ],
   "source": [
    "arcpy.management.CalculateField(\n",
    "    in_table=\"all_features_lead_only_pop_centers\",\n",
    "    field=\"Equal_weights\",\n",
    "    expression=\"(!pop_center_point_quantile!*.33)+(!reclass_lead_only_all!*.33)+(!TotalHarv_QUANTILE_12_13!*.34)\",\n",
    "    expression_type=\"PYTHON3\",\n",
    "    code_block=\"\",\n",
    "    field_type=\"LONG\",\n",
    "    enforce_domains=\"NO_ENFORCE_DOMAINS\"\n",
    ")"
   ]
  },
  {
   "cell_type": "code",
   "execution_count": 17,
   "metadata": {},
   "outputs": [
    {
     "data": {
      "text/html": [
       "<div class='gpresult'><h2>Messages</h2><div id='messages' data-messages='[\"Start Time: Tuesday, December 3, 2024 5:39:44 PM\",\"Adding deer_weighted to all_features_lead_only_pop_centers...\",\"Succeeded at Tuesday, December 3, 2024 5:39:45 PM (Elapsed Time: 0.92 seconds)\"]' data-show='true'><div id = 'default' /></div></div>"
      ],
      "text/plain": [
       "<Result 'all_features_lead_only_pop_centers'>"
      ]
     },
     "execution_count": 17,
     "metadata": {},
     "output_type": "execute_result"
    }
   ],
   "source": [
    "arcpy.management.CalculateField(\n",
    "    in_table=\"all_features_lead_only_pop_centers\",\n",
    "    field=\"deer_weighted\",\n",
    "    expression=\"(!pop_center_point_quantile!*.15)+(!reclass_lead_only_all!*.15)+(!TotalHarv_QUANTILE_12_13!*.7)\",\n",
    "    expression_type=\"PYTHON3\",\n",
    "    code_block=\"\",\n",
    "    field_type=\"LONG\",\n",
    "    enforce_domains=\"NO_ENFORCE_DOMAINS\"\n",
    ")"
   ]
  },
  {
   "cell_type": "code",
   "execution_count": 18,
   "metadata": {},
   "outputs": [
    {
     "data": {
      "text/html": [
       "<div class='gpresult'><h2>Messages</h2><div id='messages' data-messages='[\"Start Time: Tuesday, December 3, 2024 5:40:11 PM\",\"Adding eagle_weighted to all_features_lead_only_pop_centers...\",\"Succeeded at Tuesday, December 3, 2024 5:40:12 PM (Elapsed Time: 1.09 seconds)\"]' data-show='true'><div id = 'default' /></div></div>"
      ],
      "text/plain": [
       "<Result 'all_features_lead_only_pop_centers'>"
      ]
     },
     "execution_count": 18,
     "metadata": {},
     "output_type": "execute_result"
    }
   ],
   "source": [
    "arcpy.management.CalculateField(\n",
    "    in_table=\"all_features_lead_only_pop_centers\",\n",
    "    field=\"eagle_weighted\",\n",
    "    expression=\"(!pop_center_point_quantile!*.15)+(!reclass_lead_only_all!*.7)+(!TotalHarv_QUANTILE_12_13!*.15)\",\n",
    "    expression_type=\"PYTHON3\",\n",
    "    code_block=\"\",\n",
    "    field_type=\"LONG\",\n",
    "    enforce_domains=\"NO_ENFORCE_DOMAINS\"\n",
    ")"
   ]
  },
  {
   "cell_type": "code",
   "execution_count": 19,
   "metadata": {},
   "outputs": [
    {
     "data": {
      "text/html": [
       "<div class='gpresult'><h2>Messages</h2><div id='messages' data-messages='[\"Start Time: Tuesday, December 3, 2024 5:40:51 PM\",\"Adding population_weighted to all_features_lead_only_pop_centers...\",\"Succeeded at Tuesday, December 3, 2024 5:40:52 PM (Elapsed Time: 1.18 seconds)\"]' data-show='true'><div id = 'default' /></div></div>"
      ],
      "text/plain": [
       "<Result 'all_features_lead_only_pop_centers'>"
      ]
     },
     "execution_count": 19,
     "metadata": {},
     "output_type": "execute_result"
    }
   ],
   "source": [
    "arcpy.management.CalculateField(\n",
    "    in_table=\"all_features_lead_only_pop_centers\",\n",
    "    field=\"population_weighted\",\n",
    "    expression=\"(!pop_center_point_quantile!*.7)+(!reclass_lead_only_all!*.15)+(!TotalHarv_QUANTILE_12_13!*.15)\",\n",
    "    expression_type=\"PYTHON3\",\n",
    "    code_block=\"\",\n",
    "    field_type=\"LONG\",\n",
    "    enforce_domains=\"NO_ENFORCE_DOMAINS\"\n",
    ")"
   ]
  },
  {
   "cell_type": "code",
   "execution_count": null,
   "metadata": {},
   "outputs": [],
   "source": []
  }
 ],
 "metadata": {
  "kernelspec": {
   "display_name": "ArcGISPro",
   "language": "Python",
   "name": "python3"
  },
  "language_info": {
   "file_extension": ".py",
   "name": "python",
   "version": "3"
  }
 },
 "nbformat": 4,
 "nbformat_minor": 2
}
