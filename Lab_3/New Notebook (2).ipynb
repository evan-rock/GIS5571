{
 "cells": [
  {
   "cell_type": "code",
   "execution_count": 1,
   "metadata": {},
   "outputs": [],
   "source": [
    "from arcgis.gis import GIS\n",
    "gis=GIS(\"home\")"
   ]
  },
  {
   "cell_type": "code",
   "execution_count": 2,
   "metadata": {},
   "outputs": [],
   "source": [
    "import arcpy\n",
    "import requests\n",
    "from zipfile import ZipFile\n",
    "import io\n",
    "import os"
   ]
  },
  {
   "cell_type": "code",
   "execution_count": null,
   "metadata": {},
   "outputs": [],
   "source": [
    "##insert date as \"YYYY-MM-DD\" to get data for selected date\n",
    "date = \"2024-11-11\"\n",
    "ndawn_url= \"https://ndawn.ndsu.nodak.edu/table.csv?station>0&variable=ddmxt&year=2024&ttype=daily&quick_pick=30_d&begin_date={date}&end_date={date}\"\n",
    "ndawn_res = requests.get(ndawn_url, allow_redirects=True)\n",
    "\n",
    "## turn CSV into dataframe, ignoring the text above the header row, and the units row\n",
    "ndawn_csv_to_df = pd.read_csv(io.StringIO(ndawn_res.content.decode(\"utf-8\")), header = 3, skiprows=[4])\n",
    "\n",
    "ndawn_csv_to_df\n"
   ]
  },
  {
   "cell_type": "code",
   "execution_count": null,
   "metadata": {},
   "outputs": [],
   "source": [
    "##Run an IDW analysis\n",
    "with arcpy.EnvManager(scratchWorkspace=r\"C:\\Users\\rockx057\\Documents\\ArcGIS\\Projects\\lab 3 part 2\\Default.gdb\"):\n",
    "    out_raster = arcpy.sa.Idw(\n",
    "        in_point_features=\"station_points\",\n",
    "        z_field=\"max_temp\",\n",
    "        cell_size=0.021010908,\n",
    "        power=2,\n",
    "        search_radius=\"VARIABLE 12\",\n",
    "        in_barrier_polyline_features=None\n",
    "    )\n",
    "    out_raster.save(r\"C:\\Users\\rockx057\\Documents\\ArcGIS\\Projects\\lab 3 part 2\\Default.gdb\\Idw_station_1\")"
   ]
  },
  {
   "cell_type": "code",
   "execution_count": null,
   "metadata": {},
   "outputs": [],
   "source": [
    "with arcpy.EnvManager(scratchWorkspace=r\"C:\\Users\\rockx057\\Documents\\ArcGIS\\Projects\\lab 3 part 2\\Default.gdb\"):\n",
    "    out_surface_raster = arcpy.sa.Kriging(\n",
    "        in_point_features=\"station_points\",\n",
    "        z_field=\"max_temp\",\n",
    "        kriging_model=\"Spherical # # # #\",\n",
    "        cell_size=0.021010908,\n",
    "        search_radius=\"VARIABLE 12\",\n",
    "        out_variance_prediction_raster=None\n",
    "    )\n",
    "    out_surface_raster.save(r\"C:\\Users\\rockx057\\Documents\\ArcGIS\\Projects\\lab 3 part 2\\Default.gdb\\Kriging_stat2\")"
   ]
  },
  {
   "cell_type": "code",
   "execution_count": null,
   "metadata": {},
   "outputs": [],
   "source": [
    "arcpy.ga.LocalPolynomialInterpolation(\n",
    "    in_features=\"station_points\",\n",
    "    z_field=\"max_temp\",\n",
    "    out_ga_layer=\"geostats_lpi_1\",\n",
    "    out_raster=r\"C:\\Users\\rockx057\\Documents\\ArcGIS\\Projects\\lab 3 part 2\\Default.gdb\\LPI_raster_1\",\n",
    "    cell_size=0.021010908,\n",
    "    power=1,\n",
    "    search_neighborhood=\"NBRTYPE=Standard S_MAJOR=3.42563109432527 S_MINOR=3.42563109432527 ANGLE=0 NBR_MAX=15 NBR_MIN=10 SECTOR_TYPE=ONE_SECTOR\",\n",
    "    kernel_function=\"EXPONENTIAL\",\n",
    "    bandwidth=None,\n",
    "    use_condition_number=\"NO_USE_CONDITION_NUMBER\",\n",
    "    condition_number=None,\n",
    "    weight_field=None,\n",
    "    output_type=\"PREDICTION\"\n",
    ")"
   ]
  }
 ],
 "metadata": {
  "kernelspec": {
   "display_name": "ArcGISPro",
   "language": "Python",
   "name": "python3"
  },
  "language_info": {
   "file_extension": ".py",
   "name": "python",
   "version": "3"
  }
 },
 "nbformat": 4,
 "nbformat_minor": 2
}
